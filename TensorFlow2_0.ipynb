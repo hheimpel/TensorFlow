{
 "cells": [
  {
   "cell_type": "markdown",
   "metadata": {},
   "source": [
    "# TensorFlow 2.0\n",
    "\n",
    "## Embedding\n",
    "\n",
    "You have words in a sentence and often words that have similar meanings are close to each other. So in a movie review, it might say that the movie was dull and boring, or it might say that it was fun and exciting. So what if you could pick a vector in a higher-dimensional space say 16 dimensions, and words that are found together are given similar vectors. Then over time, words can begin to cluster together. The meaning of the words can come from the labeling of the dataset. So in this case, we say a negative review and the words dull and boring show up a lot in the negative review so that they have similar sentiments, and they are close to each other in the sentence. Thus their vectors will be similar. As the neural network trains, it can then learn these vectors associating them with the labels to come up with what's called an embedding i.e., the vectors for each word with their associated sentiment. The results of the embedding will be a 2D array with the length of the sentence and the embedding dimension for example 16 as its size."
   ]
  },
  {
   "cell_type": "code",
   "execution_count": 1,
   "metadata": {},
   "outputs": [
    {
     "name": "stdout",
     "output_type": "stream",
     "text": [
      "3.6.10\n"
     ]
    }
   ],
   "source": [
    "from platform import python_version\n",
    "\n",
    "print(python_version())"
   ]
  },
  {
   "cell_type": "code",
   "execution_count": 4,
   "metadata": {},
   "outputs": [],
   "source": [
    "import tensorflow as tf"
   ]
  },
  {
   "cell_type": "code",
   "execution_count": 3,
   "metadata": {},
   "outputs": [
    {
     "data": {
      "text/plain": [
       "'2.1.0'"
      ]
     },
     "execution_count": 3,
     "metadata": {},
     "output_type": "execute_result"
    }
   ],
   "source": [
    "tensorflow.__version__"
   ]
  },
  {
   "cell_type": "code",
   "execution_count": 6,
   "metadata": {},
   "outputs": [
    {
     "name": "stderr",
     "output_type": "stream",
     "text": [
      "WARNING:absl:Warning: Setting shuffle_files=True because split=TRAIN and shuffle_files=None. This behavior will be deprecated on 2019-08-06, at which point shuffle_files=False will be the default for all splits.\n"
     ]
    }
   ],
   "source": [
    "import numpy as np\n",
    "import tensorflow_datasets as tfds\n",
    "\n",
    "imdb, info = tfds.load('imdb_reviews', with_info=True, as_supervised=True)\n",
    "\n",
    "train_data, test_data = imdb['train'], imdb['test']"
   ]
  },
  {
   "cell_type": "code",
   "execution_count": 9,
   "metadata": {},
   "outputs": [
    {
     "data": {
      "text/plain": [
       "<bound method DatasetV2.__iter__ of <_OptionsDataset shapes: ((), ()), types: (tf.string, tf.int64)>>"
      ]
     },
     "execution_count": 9,
     "metadata": {},
     "output_type": "execute_result"
    }
   ],
   "source": [
    "train_data.__iter__ #it's an iterable and numpy transforms the contents to string"
   ]
  },
  {
   "cell_type": "code",
   "execution_count": 21,
   "metadata": {},
   "outputs": [],
   "source": [
    "training_sentences = []\n",
    "training_labels = []\n",
    "\n",
    "testing_sentences = []\n",
    "testing_labels = []\n",
    "\n",
    "for s,l in train_data:\n",
    "    training_sentences.append(str(s.numpy().decode('utf8')))\n",
    "    training_labels.append(str(l.numpy()))\n",
    "    \n",
    "for s,l in test_data:\n",
    "    testing_sentences.append(str(s.numpy().decode('utf8')))\n",
    "    testing_labels.append(str(l.numpy()))"
   ]
  },
  {
   "cell_type": "code",
   "execution_count": 29,
   "metadata": {},
   "outputs": [],
   "source": [
    "training_labels_final = np.array(training_labels).astype(float)\n",
    "testing_labels_final = np.array(testing_labels).astype(float)"
   ]
  },
  {
   "cell_type": "code",
   "execution_count": 23,
   "metadata": {},
   "outputs": [],
   "source": [
    "from tensorflow.keras.preprocessing.text import Tokenizer\n",
    "from tensorflow.keras.preprocessing.sequence import pad_sequences\n",
    "\n",
    "#Hyperparameters\n",
    "vocab_size = 10000\n",
    "embedding_dim = 16\n",
    "max_length = 120\n",
    "trunc_type = 'post'\n",
    "oov_tok = '<OOV>'\n",
    "\n",
    "tokenizer = Tokenizer(num_words = vocab_size, oov_token=oov_tok)\n",
    "tokenizer.fit_on_texts(training_sentences)\n",
    "word_index = tokenizer.word_index\n",
    "sequences = tokenizer.texts_to_sequences(training_sentences)\n",
    "padded = pad_sequences(sequences,maxlen=max_length, truncating=trunc_type)\n",
    "\n",
    "testing_sequences = tokenizer.texts_to_sequences(testing_sentences)\n",
    "testing_padded = pad_sequences(testing_sequences,maxlen=max_length)"
   ]
  },
  {
   "cell_type": "code",
   "execution_count": 24,
   "metadata": {},
   "outputs": [
    {
     "name": "stdout",
     "output_type": "stream",
     "text": [
      "vanilla sky is a 2001 remake of the 1997 movie <OOV> los <OOV> open your eyes and in my opinion a much more human and emotional version tom cruise plays david <OOV> a selfish <OOV> who takes other people's emotions for granted and thinks only of himself jason lee plays brian <OOV> david's best and in many ways only friend penelope <OOV> plays <OOV> <OOV> <OOV> girlfriend whom <OOV> him to david's birthday party cameron diaz plays julie <OOV> david's occasional bed buddy kurt russell plays dr curtis <OOV> a psychologist <OOV> david all of their interactions and the consequences of them make vanilla sky one of the most emotional and complex thrillers ever made i won't explain anymore of\n",
      "Vanilla Sky is a 2001 remake of the 1997 movie Abre Los Ojos (Open Your Eyes). And in my opinion, a much more human and emotional version. Tom Cruise plays David Aames, a selfish egomaniac who takes other people's emotions for granted, and thinks only of himself. Jason Lee plays Brian Shelby, David's best, and in many ways, only friend. Penelope Cruz plays Sofia Serrano, Brian's girlfriend whom accompanies him to David's birthday party. Cameron Diaz plays Julie Gianni, David's occasional bed buddy. Kurt Russell plays Dr. Curtis McCabe, a psychologist interviewing David. All of their interactions, and the consequences of them, make Vanilla Sky one of the most emotional, and complex thrillers ever made. I won't explain anymore of the plot, because it's far more compelling, the less you know. Ignore all people that call this film too confusing to follow. If you pay attention, you won't be confused. The film is very complex, but not confusing. And in my opinion, one of the best movies ever made.\n"
     ]
    }
   ],
   "source": [
    "#Reverse value and key to be able to decode\n",
    "reverse_word_index = dict([(value, key) for (key, value) in word_index.items()])\n",
    "\n",
    "def decode_review(text):\n",
    "    return ' '.join([reverse_word_index.get(i, '?') for i in text])\n",
    "\n",
    "print(decode_review(padded[3]))\n",
    "print(training_sentences[3])"
   ]
  },
  {
   "cell_type": "code",
   "execution_count": 25,
   "metadata": {},
   "outputs": [
    {
     "name": "stdout",
     "output_type": "stream",
     "text": [
      "Model: \"sequential_1\"\n",
      "_________________________________________________________________\n",
      "Layer (type)                 Output Shape              Param #   \n",
      "=================================================================\n",
      "embedding_1 (Embedding)      (None, 120, 16)           160000    \n",
      "_________________________________________________________________\n",
      "flatten_1 (Flatten)          (None, 1920)              0         \n",
      "_________________________________________________________________\n",
      "dense_2 (Dense)              (None, 6)                 11526     \n",
      "_________________________________________________________________\n",
      "dense_3 (Dense)              (None, 1)                 7         \n",
      "=================================================================\n",
      "Total params: 171,533\n",
      "Trainable params: 171,533\n",
      "Non-trainable params: 0\n",
      "_________________________________________________________________\n"
     ]
    }
   ],
   "source": [
    "model = tf.keras.Sequential([\n",
    "    tf.keras.layers.Embedding(vocab_size, embedding_dim, input_length=max_length), #Magic Layer for embedding\n",
    "    tf.keras.layers.Flatten(),\n",
    "    #tf.keras.layers.GlobalAveragePooling1d() --> use alternatively if flattening is difficult\n",
    "    tf.keras.layers.Dense(6, activation='relu'),\n",
    "    tf.keras.layers.Dense(1, activation='sigmoid')\n",
    "])\n",
    "model.compile(loss='binary_crossentropy',optimizer='adam',metrics=['accuracy'])\n",
    "model.summary()"
   ]
  },
  {
   "cell_type": "code",
   "execution_count": 30,
   "metadata": {},
   "outputs": [
    {
     "name": "stdout",
     "output_type": "stream",
     "text": [
      "Train on 25000 samples, validate on 25000 samples\n",
      "Epoch 1/10\n",
      "25000/25000 [==============================] - 10s 411us/sample - loss: 0.4949 - accuracy: 0.7468 - val_loss: 0.3549 - val_accuracy: 0.8413\n",
      "Epoch 2/10\n",
      "25000/25000 [==============================] - 9s 361us/sample - loss: 0.2437 - accuracy: 0.9053 - val_loss: 0.3709 - val_accuracy: 0.8348\n",
      "Epoch 3/10\n",
      "25000/25000 [==============================] - 9s 373us/sample - loss: 0.1007 - accuracy: 0.9732 - val_loss: 0.4378 - val_accuracy: 0.8321\n",
      "Epoch 4/10\n",
      "25000/25000 [==============================] - 9s 343us/sample - loss: 0.0274 - accuracy: 0.9963 - val_loss: 0.5221 - val_accuracy: 0.8277\n",
      "Epoch 5/10\n",
      "25000/25000 [==============================] - 8s 333us/sample - loss: 0.0091 - accuracy: 0.9990 - val_loss: 0.5788 - val_accuracy: 0.8278\n",
      "Epoch 6/10\n",
      "25000/25000 [==============================] - 8s 334us/sample - loss: 0.0033 - accuracy: 0.9998 - val_loss: 0.6289 - val_accuracy: 0.8294\n",
      "Epoch 7/10\n",
      "25000/25000 [==============================] - 9s 352us/sample - loss: 0.0011 - accuracy: 1.0000 - val_loss: 0.6746 - val_accuracy: 0.8307\n",
      "Epoch 8/10\n",
      "25000/25000 [==============================] - 9s 349us/sample - loss: 5.7461e-04 - accuracy: 1.0000 - val_loss: 0.7100 - val_accuracy: 0.8307\n",
      "Epoch 9/10\n",
      "25000/25000 [==============================] - 9s 348us/sample - loss: 3.1062e-04 - accuracy: 1.0000 - val_loss: 0.7502 - val_accuracy: 0.8319\n",
      "Epoch 10/10\n",
      "25000/25000 [==============================] - 9s 341us/sample - loss: 1.8365e-04 - accuracy: 1.0000 - val_loss: 0.7842 - val_accuracy: 0.8313\n"
     ]
    },
    {
     "data": {
      "text/plain": [
       "<tensorflow.python.keras.callbacks.History at 0x2345dae76d8>"
      ]
     },
     "execution_count": 30,
     "metadata": {},
     "output_type": "execute_result"
    }
   ],
   "source": [
    "num_epochs = 10\n",
    "model.fit(padded, training_labels_final, epochs=num_epochs, validation_data=(testing_padded, testing_labels_final))"
   ]
  },
  {
   "cell_type": "code",
   "execution_count": 31,
   "metadata": {},
   "outputs": [
    {
     "name": "stdout",
     "output_type": "stream",
     "text": [
      "(10000, 16)\n"
     ]
    }
   ],
   "source": [
    "e = model.layers[0] #results in layer 0\n",
    "weights = e.get_weights()[0]\n",
    "print(weights.shape) # shape: (vocab_size, embedding_dim)"
   ]
  },
  {
   "cell_type": "code",
   "execution_count": null,
   "metadata": {},
   "outputs": [],
   "source": [
    "#Write the vectors and their metadata auto files.\n",
    "#The TensorFlow Projector reads this file type and uses it to plot the vectors in 3D space so we can visualize them\n",
    "\n",
    "import io\n",
    "\n",
    "out_v = io.open('vecs.tsv', 'w', encoding='utf-8')\n",
    "out_m = io.open('meta.tsv', 'w', encoding='utf-8')\n",
    "for word_num in range(1, vocab_size):\n",
    "    word = reverse_word_index[word_num]\n",
    "    embeddings = weights[word_num]\n",
    "    out_m.write(word + \"\\n\")\n",
    "    #To the metadata array, we just write out the words.\n",
    "    out_v.write('\\t'.join([str(x) for x in embeddings]) + \"\\n\")\n",
    "    #To the vectors file, we write out the value of each of the items in the array of embeddings, i.e,\n",
    "    #the co-efficient of each dimension on the vector for this word.\n",
    "out_v.close()\n",
    "out_m.close()"
   ]
  },
  {
   "cell_type": "markdown",
   "metadata": {},
   "source": [
    "## Deep Recurrent Neural Networks (RNNs)\n",
    "\n",
    "#### Long Short Term Memory (LSTM)\n",
    "\n",
    "Long short-term memory (LSTM) is an artificial recurrent neural network (RNN) architecture used in the field of deep learning. Unlike standard feedforward neural networks, LSTM has feedback connections. It can not only process single data points (such as images), but also entire sequences of data (such as speech or video)."
   ]
  },
  {
   "cell_type": "code",
   "execution_count": 34,
   "metadata": {},
   "outputs": [
    {
     "name": "stdout",
     "output_type": "stream",
     "text": [
      "\u001b[1mDownloading and preparing dataset imdb_reviews (80.23 MiB) to C:\\Users\\hheim\\tensorflow_datasets\\imdb_reviews\\subwords8k\\0.1.0...\u001b[0m\n"
     ]
    },
    {
     "data": {
      "application/vnd.jupyter.widget-view+json": {
       "model_id": "c7a284b45dd6460d9e3fedc013284bb8",
       "version_major": 2,
       "version_minor": 0
      },
      "text/plain": [
       "HBox(children=(FloatProgress(value=1.0, bar_style='info', description='Dl Completed...', layout=Layout(width='…"
      ]
     },
     "metadata": {},
     "output_type": "display_data"
    },
    {
     "data": {
      "application/vnd.jupyter.widget-view+json": {
       "model_id": "0158f7ddf781471c87ec8f582bb8462d",
       "version_major": 2,
       "version_minor": 0
      },
      "text/plain": [
       "HBox(children=(FloatProgress(value=1.0, bar_style='info', description='Dl Size...', layout=Layout(width='20px'…"
      ]
     },
     "metadata": {},
     "output_type": "display_data"
    },
    {
     "name": "stdout",
     "output_type": "stream",
     "text": [
      "\n",
      "\n",
      "\n",
      "\n"
     ]
    },
    {
     "data": {
      "application/vnd.jupyter.widget-view+json": {
       "model_id": "",
       "version_major": 2,
       "version_minor": 0
      },
      "text/plain": [
       "HBox(children=(FloatProgress(value=1.0, bar_style='info', layout=Layout(width='20px'), max=1.0), HTML(value=''…"
      ]
     },
     "metadata": {},
     "output_type": "display_data"
    },
    {
     "data": {
      "application/vnd.jupyter.widget-view+json": {
       "model_id": "",
       "version_major": 2,
       "version_minor": 0
      },
      "text/plain": [
       "HBox(children=(FloatProgress(value=0.0, description='Shuffling...', max=10.0, style=ProgressStyle(description_…"
      ]
     },
     "metadata": {},
     "output_type": "display_data"
    },
    {
     "name": "stdout",
     "output_type": "stream",
     "text": [
      "WARNING:tensorflow:From C:\\Users\\hheim\\Anaconda3\\envs\\tensorflow2\\lib\\site-packages\\tensorflow_datasets\\core\\file_format_adapter.py:209: tf_record_iterator (from tensorflow.python.lib.io.tf_record) is deprecated and will be removed in a future version.\n",
      "Instructions for updating:\n",
      "Use eager execution and: \n",
      "`tf.data.TFRecordDataset(path)`\n"
     ]
    },
    {
     "name": "stderr",
     "output_type": "stream",
     "text": [
      "WARNING:tensorflow:From C:\\Users\\hheim\\Anaconda3\\envs\\tensorflow2\\lib\\site-packages\\tensorflow_datasets\\core\\file_format_adapter.py:209: tf_record_iterator (from tensorflow.python.lib.io.tf_record) is deprecated and will be removed in a future version.\n",
      "Instructions for updating:\n",
      "Use eager execution and: \n",
      "`tf.data.TFRecordDataset(path)`\n"
     ]
    },
    {
     "data": {
      "application/vnd.jupyter.widget-view+json": {
       "model_id": "",
       "version_major": 2,
       "version_minor": 0
      },
      "text/plain": [
       "HBox(children=(FloatProgress(value=1.0, bar_style='info', description='Reading...', layout=Layout(width='20px'…"
      ]
     },
     "metadata": {},
     "output_type": "display_data"
    },
    {
     "data": {
      "application/vnd.jupyter.widget-view+json": {
       "model_id": "",
       "version_major": 2,
       "version_minor": 0
      },
      "text/plain": [
       "HBox(children=(FloatProgress(value=0.0, description='Writing...', max=2500.0, style=ProgressStyle(description_…"
      ]
     },
     "metadata": {},
     "output_type": "display_data"
    },
    {
     "data": {
      "application/vnd.jupyter.widget-view+json": {
       "model_id": "",
       "version_major": 2,
       "version_minor": 0
      },
      "text/plain": [
       "HBox(children=(FloatProgress(value=1.0, bar_style='info', description='Reading...', layout=Layout(width='20px'…"
      ]
     },
     "metadata": {},
     "output_type": "display_data"
    },
    {
     "data": {
      "application/vnd.jupyter.widget-view+json": {
       "model_id": "",
       "version_major": 2,
       "version_minor": 0
      },
      "text/plain": [
       "HBox(children=(FloatProgress(value=0.0, description='Writing...', max=2500.0, style=ProgressStyle(description_…"
      ]
     },
     "metadata": {},
     "output_type": "display_data"
    },
    {
     "data": {
      "application/vnd.jupyter.widget-view+json": {
       "model_id": "",
       "version_major": 2,
       "version_minor": 0
      },
      "text/plain": [
       "HBox(children=(FloatProgress(value=1.0, bar_style='info', description='Reading...', layout=Layout(width='20px'…"
      ]
     },
     "metadata": {},
     "output_type": "display_data"
    },
    {
     "data": {
      "application/vnd.jupyter.widget-view+json": {
       "model_id": "",
       "version_major": 2,
       "version_minor": 0
      },
      "text/plain": [
       "HBox(children=(FloatProgress(value=0.0, description='Writing...', max=2500.0, style=ProgressStyle(description_…"
      ]
     },
     "metadata": {},
     "output_type": "display_data"
    },
    {
     "data": {
      "application/vnd.jupyter.widget-view+json": {
       "model_id": "",
       "version_major": 2,
       "version_minor": 0
      },
      "text/plain": [
       "HBox(children=(FloatProgress(value=1.0, bar_style='info', description='Reading...', layout=Layout(width='20px'…"
      ]
     },
     "metadata": {},
     "output_type": "display_data"
    },
    {
     "data": {
      "application/vnd.jupyter.widget-view+json": {
       "model_id": "",
       "version_major": 2,
       "version_minor": 0
      },
      "text/plain": [
       "HBox(children=(FloatProgress(value=0.0, description='Writing...', max=2500.0, style=ProgressStyle(description_…"
      ]
     },
     "metadata": {},
     "output_type": "display_data"
    },
    {
     "data": {
      "application/vnd.jupyter.widget-view+json": {
       "model_id": "",
       "version_major": 2,
       "version_minor": 0
      },
      "text/plain": [
       "HBox(children=(FloatProgress(value=1.0, bar_style='info', description='Reading...', layout=Layout(width='20px'…"
      ]
     },
     "metadata": {},
     "output_type": "display_data"
    },
    {
     "data": {
      "application/vnd.jupyter.widget-view+json": {
       "model_id": "",
       "version_major": 2,
       "version_minor": 0
      },
      "text/plain": [
       "HBox(children=(FloatProgress(value=0.0, description='Writing...', max=2500.0, style=ProgressStyle(description_…"
      ]
     },
     "metadata": {},
     "output_type": "display_data"
    },
    {
     "data": {
      "application/vnd.jupyter.widget-view+json": {
       "model_id": "",
       "version_major": 2,
       "version_minor": 0
      },
      "text/plain": [
       "HBox(children=(FloatProgress(value=1.0, bar_style='info', description='Reading...', layout=Layout(width='20px'…"
      ]
     },
     "metadata": {},
     "output_type": "display_data"
    },
    {
     "data": {
      "application/vnd.jupyter.widget-view+json": {
       "model_id": "",
       "version_major": 2,
       "version_minor": 0
      },
      "text/plain": [
       "HBox(children=(FloatProgress(value=0.0, description='Writing...', max=2500.0, style=ProgressStyle(description_…"
      ]
     },
     "metadata": {},
     "output_type": "display_data"
    },
    {
     "data": {
      "application/vnd.jupyter.widget-view+json": {
       "model_id": "",
       "version_major": 2,
       "version_minor": 0
      },
      "text/plain": [
       "HBox(children=(FloatProgress(value=1.0, bar_style='info', description='Reading...', layout=Layout(width='20px'…"
      ]
     },
     "metadata": {},
     "output_type": "display_data"
    },
    {
     "data": {
      "application/vnd.jupyter.widget-view+json": {
       "model_id": "",
       "version_major": 2,
       "version_minor": 0
      },
      "text/plain": [
       "HBox(children=(FloatProgress(value=0.0, description='Writing...', max=2500.0, style=ProgressStyle(description_…"
      ]
     },
     "metadata": {},
     "output_type": "display_data"
    },
    {
     "data": {
      "application/vnd.jupyter.widget-view+json": {
       "model_id": "",
       "version_major": 2,
       "version_minor": 0
      },
      "text/plain": [
       "HBox(children=(FloatProgress(value=1.0, bar_style='info', description='Reading...', layout=Layout(width='20px'…"
      ]
     },
     "metadata": {},
     "output_type": "display_data"
    },
    {
     "data": {
      "application/vnd.jupyter.widget-view+json": {
       "model_id": "",
       "version_major": 2,
       "version_minor": 0
      },
      "text/plain": [
       "HBox(children=(FloatProgress(value=0.0, description='Writing...', max=2500.0, style=ProgressStyle(description_…"
      ]
     },
     "metadata": {},
     "output_type": "display_data"
    },
    {
     "data": {
      "application/vnd.jupyter.widget-view+json": {
       "model_id": "",
       "version_major": 2,
       "version_minor": 0
      },
      "text/plain": [
       "HBox(children=(FloatProgress(value=1.0, bar_style='info', description='Reading...', layout=Layout(width='20px'…"
      ]
     },
     "metadata": {},
     "output_type": "display_data"
    },
    {
     "data": {
      "application/vnd.jupyter.widget-view+json": {
       "model_id": "",
       "version_major": 2,
       "version_minor": 0
      },
      "text/plain": [
       "HBox(children=(FloatProgress(value=0.0, description='Writing...', max=2500.0, style=ProgressStyle(description_…"
      ]
     },
     "metadata": {},
     "output_type": "display_data"
    },
    {
     "data": {
      "application/vnd.jupyter.widget-view+json": {
       "model_id": "",
       "version_major": 2,
       "version_minor": 0
      },
      "text/plain": [
       "HBox(children=(FloatProgress(value=1.0, bar_style='info', description='Reading...', layout=Layout(width='20px'…"
      ]
     },
     "metadata": {},
     "output_type": "display_data"
    },
    {
     "data": {
      "application/vnd.jupyter.widget-view+json": {
       "model_id": "",
       "version_major": 2,
       "version_minor": 0
      },
      "text/plain": [
       "HBox(children=(FloatProgress(value=0.0, description='Writing...', max=2500.0, style=ProgressStyle(description_…"
      ]
     },
     "metadata": {},
     "output_type": "display_data"
    },
    {
     "data": {
      "application/vnd.jupyter.widget-view+json": {
       "model_id": "",
       "version_major": 2,
       "version_minor": 0
      },
      "text/plain": [
       "HBox(children=(FloatProgress(value=1.0, bar_style='info', layout=Layout(width='20px'), max=1.0), HTML(value=''…"
      ]
     },
     "metadata": {},
     "output_type": "display_data"
    },
    {
     "data": {
      "application/vnd.jupyter.widget-view+json": {
       "model_id": "",
       "version_major": 2,
       "version_minor": 0
      },
      "text/plain": [
       "HBox(children=(FloatProgress(value=0.0, description='Shuffling...', max=10.0, style=ProgressStyle(description_…"
      ]
     },
     "metadata": {},
     "output_type": "display_data"
    },
    {
     "data": {
      "application/vnd.jupyter.widget-view+json": {
       "model_id": "",
       "version_major": 2,
       "version_minor": 0
      },
      "text/plain": [
       "HBox(children=(FloatProgress(value=1.0, bar_style='info', description='Reading...', layout=Layout(width='20px'…"
      ]
     },
     "metadata": {},
     "output_type": "display_data"
    },
    {
     "data": {
      "application/vnd.jupyter.widget-view+json": {
       "model_id": "",
       "version_major": 2,
       "version_minor": 0
      },
      "text/plain": [
       "HBox(children=(FloatProgress(value=0.0, description='Writing...', max=2500.0, style=ProgressStyle(description_…"
      ]
     },
     "metadata": {},
     "output_type": "display_data"
    },
    {
     "data": {
      "application/vnd.jupyter.widget-view+json": {
       "model_id": "",
       "version_major": 2,
       "version_minor": 0
      },
      "text/plain": [
       "HBox(children=(FloatProgress(value=1.0, bar_style='info', description='Reading...', layout=Layout(width='20px'…"
      ]
     },
     "metadata": {},
     "output_type": "display_data"
    },
    {
     "data": {
      "application/vnd.jupyter.widget-view+json": {
       "model_id": "",
       "version_major": 2,
       "version_minor": 0
      },
      "text/plain": [
       "HBox(children=(FloatProgress(value=0.0, description='Writing...', max=2500.0, style=ProgressStyle(description_…"
      ]
     },
     "metadata": {},
     "output_type": "display_data"
    },
    {
     "data": {
      "application/vnd.jupyter.widget-view+json": {
       "model_id": "",
       "version_major": 2,
       "version_minor": 0
      },
      "text/plain": [
       "HBox(children=(FloatProgress(value=1.0, bar_style='info', description='Reading...', layout=Layout(width='20px'…"
      ]
     },
     "metadata": {},
     "output_type": "display_data"
    },
    {
     "data": {
      "application/vnd.jupyter.widget-view+json": {
       "model_id": "",
       "version_major": 2,
       "version_minor": 0
      },
      "text/plain": [
       "HBox(children=(FloatProgress(value=0.0, description='Writing...', max=2500.0, style=ProgressStyle(description_…"
      ]
     },
     "metadata": {},
     "output_type": "display_data"
    },
    {
     "data": {
      "application/vnd.jupyter.widget-view+json": {
       "model_id": "",
       "version_major": 2,
       "version_minor": 0
      },
      "text/plain": [
       "HBox(children=(FloatProgress(value=1.0, bar_style='info', description='Reading...', layout=Layout(width='20px'…"
      ]
     },
     "metadata": {},
     "output_type": "display_data"
    },
    {
     "data": {
      "application/vnd.jupyter.widget-view+json": {
       "model_id": "",
       "version_major": 2,
       "version_minor": 0
      },
      "text/plain": [
       "HBox(children=(FloatProgress(value=0.0, description='Writing...', max=2500.0, style=ProgressStyle(description_…"
      ]
     },
     "metadata": {},
     "output_type": "display_data"
    },
    {
     "data": {
      "application/vnd.jupyter.widget-view+json": {
       "model_id": "",
       "version_major": 2,
       "version_minor": 0
      },
      "text/plain": [
       "HBox(children=(FloatProgress(value=1.0, bar_style='info', description='Reading...', layout=Layout(width='20px'…"
      ]
     },
     "metadata": {},
     "output_type": "display_data"
    },
    {
     "data": {
      "application/vnd.jupyter.widget-view+json": {
       "model_id": "",
       "version_major": 2,
       "version_minor": 0
      },
      "text/plain": [
       "HBox(children=(FloatProgress(value=0.0, description='Writing...', max=2500.0, style=ProgressStyle(description_…"
      ]
     },
     "metadata": {},
     "output_type": "display_data"
    },
    {
     "data": {
      "application/vnd.jupyter.widget-view+json": {
       "model_id": "",
       "version_major": 2,
       "version_minor": 0
      },
      "text/plain": [
       "HBox(children=(FloatProgress(value=1.0, bar_style='info', description='Reading...', layout=Layout(width='20px'…"
      ]
     },
     "metadata": {},
     "output_type": "display_data"
    },
    {
     "data": {
      "application/vnd.jupyter.widget-view+json": {
       "model_id": "",
       "version_major": 2,
       "version_minor": 0
      },
      "text/plain": [
       "HBox(children=(FloatProgress(value=0.0, description='Writing...', max=2500.0, style=ProgressStyle(description_…"
      ]
     },
     "metadata": {},
     "output_type": "display_data"
    },
    {
     "data": {
      "application/vnd.jupyter.widget-view+json": {
       "model_id": "",
       "version_major": 2,
       "version_minor": 0
      },
      "text/plain": [
       "HBox(children=(FloatProgress(value=1.0, bar_style='info', description='Reading...', layout=Layout(width='20px'…"
      ]
     },
     "metadata": {},
     "output_type": "display_data"
    },
    {
     "data": {
      "application/vnd.jupyter.widget-view+json": {
       "model_id": "",
       "version_major": 2,
       "version_minor": 0
      },
      "text/plain": [
       "HBox(children=(FloatProgress(value=0.0, description='Writing...', max=2500.0, style=ProgressStyle(description_…"
      ]
     },
     "metadata": {},
     "output_type": "display_data"
    },
    {
     "data": {
      "application/vnd.jupyter.widget-view+json": {
       "model_id": "",
       "version_major": 2,
       "version_minor": 0
      },
      "text/plain": [
       "HBox(children=(FloatProgress(value=1.0, bar_style='info', description='Reading...', layout=Layout(width='20px'…"
      ]
     },
     "metadata": {},
     "output_type": "display_data"
    },
    {
     "data": {
      "application/vnd.jupyter.widget-view+json": {
       "model_id": "",
       "version_major": 2,
       "version_minor": 0
      },
      "text/plain": [
       "HBox(children=(FloatProgress(value=0.0, description='Writing...', max=2500.0, style=ProgressStyle(description_…"
      ]
     },
     "metadata": {},
     "output_type": "display_data"
    },
    {
     "data": {
      "application/vnd.jupyter.widget-view+json": {
       "model_id": "",
       "version_major": 2,
       "version_minor": 0
      },
      "text/plain": [
       "HBox(children=(FloatProgress(value=1.0, bar_style='info', description='Reading...', layout=Layout(width='20px'…"
      ]
     },
     "metadata": {},
     "output_type": "display_data"
    },
    {
     "data": {
      "application/vnd.jupyter.widget-view+json": {
       "model_id": "",
       "version_major": 2,
       "version_minor": 0
      },
      "text/plain": [
       "HBox(children=(FloatProgress(value=0.0, description='Writing...', max=2500.0, style=ProgressStyle(description_…"
      ]
     },
     "metadata": {},
     "output_type": "display_data"
    },
    {
     "data": {
      "application/vnd.jupyter.widget-view+json": {
       "model_id": "",
       "version_major": 2,
       "version_minor": 0
      },
      "text/plain": [
       "HBox(children=(FloatProgress(value=1.0, bar_style='info', description='Reading...', layout=Layout(width='20px'…"
      ]
     },
     "metadata": {},
     "output_type": "display_data"
    },
    {
     "data": {
      "application/vnd.jupyter.widget-view+json": {
       "model_id": "",
       "version_major": 2,
       "version_minor": 0
      },
      "text/plain": [
       "HBox(children=(FloatProgress(value=0.0, description='Writing...', max=2500.0, style=ProgressStyle(description_…"
      ]
     },
     "metadata": {},
     "output_type": "display_data"
    },
    {
     "data": {
      "application/vnd.jupyter.widget-view+json": {
       "model_id": "",
       "version_major": 2,
       "version_minor": 0
      },
      "text/plain": [
       "HBox(children=(FloatProgress(value=1.0, bar_style='info', layout=Layout(width='20px'), max=1.0), HTML(value=''…"
      ]
     },
     "metadata": {},
     "output_type": "display_data"
    },
    {
     "data": {
      "application/vnd.jupyter.widget-view+json": {
       "model_id": "",
       "version_major": 2,
       "version_minor": 0
      },
      "text/plain": [
       "HBox(children=(FloatProgress(value=0.0, description='Shuffling...', max=20.0, style=ProgressStyle(description_…"
      ]
     },
     "metadata": {},
     "output_type": "display_data"
    },
    {
     "data": {
      "application/vnd.jupyter.widget-view+json": {
       "model_id": "",
       "version_major": 2,
       "version_minor": 0
      },
      "text/plain": [
       "HBox(children=(FloatProgress(value=1.0, bar_style='info', description='Reading...', layout=Layout(width='20px'…"
      ]
     },
     "metadata": {},
     "output_type": "display_data"
    },
    {
     "data": {
      "application/vnd.jupyter.widget-view+json": {
       "model_id": "",
       "version_major": 2,
       "version_minor": 0
      },
      "text/plain": [
       "HBox(children=(FloatProgress(value=0.0, description='Writing...', max=2500.0, style=ProgressStyle(description_…"
      ]
     },
     "metadata": {},
     "output_type": "display_data"
    },
    {
     "data": {
      "application/vnd.jupyter.widget-view+json": {
       "model_id": "",
       "version_major": 2,
       "version_minor": 0
      },
      "text/plain": [
       "HBox(children=(FloatProgress(value=1.0, bar_style='info', description='Reading...', layout=Layout(width='20px'…"
      ]
     },
     "metadata": {},
     "output_type": "display_data"
    },
    {
     "data": {
      "application/vnd.jupyter.widget-view+json": {
       "model_id": "",
       "version_major": 2,
       "version_minor": 0
      },
      "text/plain": [
       "HBox(children=(FloatProgress(value=0.0, description='Writing...', max=2500.0, style=ProgressStyle(description_…"
      ]
     },
     "metadata": {},
     "output_type": "display_data"
    },
    {
     "data": {
      "application/vnd.jupyter.widget-view+json": {
       "model_id": "",
       "version_major": 2,
       "version_minor": 0
      },
      "text/plain": [
       "HBox(children=(FloatProgress(value=1.0, bar_style='info', description='Reading...', layout=Layout(width='20px'…"
      ]
     },
     "metadata": {},
     "output_type": "display_data"
    },
    {
     "data": {
      "application/vnd.jupyter.widget-view+json": {
       "model_id": "",
       "version_major": 2,
       "version_minor": 0
      },
      "text/plain": [
       "HBox(children=(FloatProgress(value=0.0, description='Writing...', max=2500.0, style=ProgressStyle(description_…"
      ]
     },
     "metadata": {},
     "output_type": "display_data"
    },
    {
     "data": {
      "application/vnd.jupyter.widget-view+json": {
       "model_id": "",
       "version_major": 2,
       "version_minor": 0
      },
      "text/plain": [
       "HBox(children=(FloatProgress(value=1.0, bar_style='info', description='Reading...', layout=Layout(width='20px'…"
      ]
     },
     "metadata": {},
     "output_type": "display_data"
    },
    {
     "data": {
      "application/vnd.jupyter.widget-view+json": {
       "model_id": "",
       "version_major": 2,
       "version_minor": 0
      },
      "text/plain": [
       "HBox(children=(FloatProgress(value=0.0, description='Writing...', max=2500.0, style=ProgressStyle(description_…"
      ]
     },
     "metadata": {},
     "output_type": "display_data"
    },
    {
     "data": {
      "application/vnd.jupyter.widget-view+json": {
       "model_id": "",
       "version_major": 2,
       "version_minor": 0
      },
      "text/plain": [
       "HBox(children=(FloatProgress(value=1.0, bar_style='info', description='Reading...', layout=Layout(width='20px'…"
      ]
     },
     "metadata": {},
     "output_type": "display_data"
    },
    {
     "data": {
      "application/vnd.jupyter.widget-view+json": {
       "model_id": "",
       "version_major": 2,
       "version_minor": 0
      },
      "text/plain": [
       "HBox(children=(FloatProgress(value=0.0, description='Writing...', max=2500.0, style=ProgressStyle(description_…"
      ]
     },
     "metadata": {},
     "output_type": "display_data"
    },
    {
     "data": {
      "application/vnd.jupyter.widget-view+json": {
       "model_id": "",
       "version_major": 2,
       "version_minor": 0
      },
      "text/plain": [
       "HBox(children=(FloatProgress(value=1.0, bar_style='info', description='Reading...', layout=Layout(width='20px'…"
      ]
     },
     "metadata": {},
     "output_type": "display_data"
    },
    {
     "data": {
      "application/vnd.jupyter.widget-view+json": {
       "model_id": "",
       "version_major": 2,
       "version_minor": 0
      },
      "text/plain": [
       "HBox(children=(FloatProgress(value=0.0, description='Writing...', max=2500.0, style=ProgressStyle(description_…"
      ]
     },
     "metadata": {},
     "output_type": "display_data"
    },
    {
     "data": {
      "application/vnd.jupyter.widget-view+json": {
       "model_id": "",
       "version_major": 2,
       "version_minor": 0
      },
      "text/plain": [
       "HBox(children=(FloatProgress(value=1.0, bar_style='info', description='Reading...', layout=Layout(width='20px'…"
      ]
     },
     "metadata": {},
     "output_type": "display_data"
    },
    {
     "data": {
      "application/vnd.jupyter.widget-view+json": {
       "model_id": "",
       "version_major": 2,
       "version_minor": 0
      },
      "text/plain": [
       "HBox(children=(FloatProgress(value=0.0, description='Writing...', max=2500.0, style=ProgressStyle(description_…"
      ]
     },
     "metadata": {},
     "output_type": "display_data"
    },
    {
     "data": {
      "application/vnd.jupyter.widget-view+json": {
       "model_id": "",
       "version_major": 2,
       "version_minor": 0
      },
      "text/plain": [
       "HBox(children=(FloatProgress(value=1.0, bar_style='info', description='Reading...', layout=Layout(width='20px'…"
      ]
     },
     "metadata": {},
     "output_type": "display_data"
    },
    {
     "data": {
      "application/vnd.jupyter.widget-view+json": {
       "model_id": "",
       "version_major": 2,
       "version_minor": 0
      },
      "text/plain": [
       "HBox(children=(FloatProgress(value=0.0, description='Writing...', max=2500.0, style=ProgressStyle(description_…"
      ]
     },
     "metadata": {},
     "output_type": "display_data"
    },
    {
     "data": {
      "application/vnd.jupyter.widget-view+json": {
       "model_id": "",
       "version_major": 2,
       "version_minor": 0
      },
      "text/plain": [
       "HBox(children=(FloatProgress(value=1.0, bar_style='info', description='Reading...', layout=Layout(width='20px'…"
      ]
     },
     "metadata": {},
     "output_type": "display_data"
    },
    {
     "data": {
      "application/vnd.jupyter.widget-view+json": {
       "model_id": "",
       "version_major": 2,
       "version_minor": 0
      },
      "text/plain": [
       "HBox(children=(FloatProgress(value=0.0, description='Writing...', max=2500.0, style=ProgressStyle(description_…"
      ]
     },
     "metadata": {},
     "output_type": "display_data"
    },
    {
     "data": {
      "application/vnd.jupyter.widget-view+json": {
       "model_id": "",
       "version_major": 2,
       "version_minor": 0
      },
      "text/plain": [
       "HBox(children=(FloatProgress(value=1.0, bar_style='info', description='Reading...', layout=Layout(width='20px'…"
      ]
     },
     "metadata": {},
     "output_type": "display_data"
    },
    {
     "data": {
      "application/vnd.jupyter.widget-view+json": {
       "model_id": "",
       "version_major": 2,
       "version_minor": 0
      },
      "text/plain": [
       "HBox(children=(FloatProgress(value=0.0, description='Writing...', max=2500.0, style=ProgressStyle(description_…"
      ]
     },
     "metadata": {},
     "output_type": "display_data"
    },
    {
     "data": {
      "application/vnd.jupyter.widget-view+json": {
       "model_id": "",
       "version_major": 2,
       "version_minor": 0
      },
      "text/plain": [
       "HBox(children=(FloatProgress(value=1.0, bar_style='info', description='Reading...', layout=Layout(width='20px'…"
      ]
     },
     "metadata": {},
     "output_type": "display_data"
    },
    {
     "data": {
      "application/vnd.jupyter.widget-view+json": {
       "model_id": "",
       "version_major": 2,
       "version_minor": 0
      },
      "text/plain": [
       "HBox(children=(FloatProgress(value=0.0, description='Writing...', max=2500.0, style=ProgressStyle(description_…"
      ]
     },
     "metadata": {},
     "output_type": "display_data"
    },
    {
     "data": {
      "application/vnd.jupyter.widget-view+json": {
       "model_id": "",
       "version_major": 2,
       "version_minor": 0
      },
      "text/plain": [
       "HBox(children=(FloatProgress(value=1.0, bar_style='info', description='Reading...', layout=Layout(width='20px'…"
      ]
     },
     "metadata": {},
     "output_type": "display_data"
    },
    {
     "data": {
      "application/vnd.jupyter.widget-view+json": {
       "model_id": "",
       "version_major": 2,
       "version_minor": 0
      },
      "text/plain": [
       "HBox(children=(FloatProgress(value=0.0, description='Writing...', max=2500.0, style=ProgressStyle(description_…"
      ]
     },
     "metadata": {},
     "output_type": "display_data"
    },
    {
     "data": {
      "application/vnd.jupyter.widget-view+json": {
       "model_id": "",
       "version_major": 2,
       "version_minor": 0
      },
      "text/plain": [
       "HBox(children=(FloatProgress(value=1.0, bar_style='info', description='Reading...', layout=Layout(width='20px'…"
      ]
     },
     "metadata": {},
     "output_type": "display_data"
    },
    {
     "data": {
      "application/vnd.jupyter.widget-view+json": {
       "model_id": "",
       "version_major": 2,
       "version_minor": 0
      },
      "text/plain": [
       "HBox(children=(FloatProgress(value=0.0, description='Writing...', max=2500.0, style=ProgressStyle(description_…"
      ]
     },
     "metadata": {},
     "output_type": "display_data"
    },
    {
     "data": {
      "application/vnd.jupyter.widget-view+json": {
       "model_id": "",
       "version_major": 2,
       "version_minor": 0
      },
      "text/plain": [
       "HBox(children=(FloatProgress(value=1.0, bar_style='info', description='Reading...', layout=Layout(width='20px'…"
      ]
     },
     "metadata": {},
     "output_type": "display_data"
    },
    {
     "data": {
      "application/vnd.jupyter.widget-view+json": {
       "model_id": "",
       "version_major": 2,
       "version_minor": 0
      },
      "text/plain": [
       "HBox(children=(FloatProgress(value=0.0, description='Writing...', max=2500.0, style=ProgressStyle(description_…"
      ]
     },
     "metadata": {},
     "output_type": "display_data"
    },
    {
     "data": {
      "application/vnd.jupyter.widget-view+json": {
       "model_id": "",
       "version_major": 2,
       "version_minor": 0
      },
      "text/plain": [
       "HBox(children=(FloatProgress(value=1.0, bar_style='info', description='Reading...', layout=Layout(width='20px'…"
      ]
     },
     "metadata": {},
     "output_type": "display_data"
    },
    {
     "data": {
      "application/vnd.jupyter.widget-view+json": {
       "model_id": "",
       "version_major": 2,
       "version_minor": 0
      },
      "text/plain": [
       "HBox(children=(FloatProgress(value=0.0, description='Writing...', max=2500.0, style=ProgressStyle(description_…"
      ]
     },
     "metadata": {},
     "output_type": "display_data"
    },
    {
     "data": {
      "application/vnd.jupyter.widget-view+json": {
       "model_id": "",
       "version_major": 2,
       "version_minor": 0
      },
      "text/plain": [
       "HBox(children=(FloatProgress(value=1.0, bar_style='info', description='Reading...', layout=Layout(width='20px'…"
      ]
     },
     "metadata": {},
     "output_type": "display_data"
    },
    {
     "data": {
      "application/vnd.jupyter.widget-view+json": {
       "model_id": "",
       "version_major": 2,
       "version_minor": 0
      },
      "text/plain": [
       "HBox(children=(FloatProgress(value=0.0, description='Writing...', max=2500.0, style=ProgressStyle(description_…"
      ]
     },
     "metadata": {},
     "output_type": "display_data"
    },
    {
     "data": {
      "application/vnd.jupyter.widget-view+json": {
       "model_id": "",
       "version_major": 2,
       "version_minor": 0
      },
      "text/plain": [
       "HBox(children=(FloatProgress(value=1.0, bar_style='info', description='Reading...', layout=Layout(width='20px'…"
      ]
     },
     "metadata": {},
     "output_type": "display_data"
    },
    {
     "data": {
      "application/vnd.jupyter.widget-view+json": {
       "model_id": "",
       "version_major": 2,
       "version_minor": 0
      },
      "text/plain": [
       "HBox(children=(FloatProgress(value=0.0, description='Writing...', max=2500.0, style=ProgressStyle(description_…"
      ]
     },
     "metadata": {},
     "output_type": "display_data"
    },
    {
     "data": {
      "application/vnd.jupyter.widget-view+json": {
       "model_id": "",
       "version_major": 2,
       "version_minor": 0
      },
      "text/plain": [
       "HBox(children=(FloatProgress(value=1.0, bar_style='info', description='Reading...', layout=Layout(width='20px'…"
      ]
     },
     "metadata": {},
     "output_type": "display_data"
    },
    {
     "data": {
      "application/vnd.jupyter.widget-view+json": {
       "model_id": "",
       "version_major": 2,
       "version_minor": 0
      },
      "text/plain": [
       "HBox(children=(FloatProgress(value=0.0, description='Writing...', max=2500.0, style=ProgressStyle(description_…"
      ]
     },
     "metadata": {},
     "output_type": "display_data"
    },
    {
     "data": {
      "application/vnd.jupyter.widget-view+json": {
       "model_id": "",
       "version_major": 2,
       "version_minor": 0
      },
      "text/plain": [
       "HBox(children=(FloatProgress(value=1.0, bar_style='info', description='Reading...', layout=Layout(width='20px'…"
      ]
     },
     "metadata": {},
     "output_type": "display_data"
    },
    {
     "data": {
      "application/vnd.jupyter.widget-view+json": {
       "model_id": "",
       "version_major": 2,
       "version_minor": 0
      },
      "text/plain": [
       "HBox(children=(FloatProgress(value=0.0, description='Writing...', max=2500.0, style=ProgressStyle(description_…"
      ]
     },
     "metadata": {},
     "output_type": "display_data"
    },
    {
     "data": {
      "application/vnd.jupyter.widget-view+json": {
       "model_id": "",
       "version_major": 2,
       "version_minor": 0
      },
      "text/plain": [
       "HBox(children=(FloatProgress(value=1.0, bar_style='info', description='Reading...', layout=Layout(width='20px'…"
      ]
     },
     "metadata": {},
     "output_type": "display_data"
    },
    {
     "data": {
      "application/vnd.jupyter.widget-view+json": {
       "model_id": "",
       "version_major": 2,
       "version_minor": 0
      },
      "text/plain": [
       "HBox(children=(FloatProgress(value=0.0, description='Writing...', max=2500.0, style=ProgressStyle(description_…"
      ]
     },
     "metadata": {},
     "output_type": "display_data"
    },
    {
     "name": "stdout",
     "output_type": "stream",
     "text": [
      "\u001b[1mDataset imdb_reviews downloaded and prepared to C:\\Users\\hheim\\tensorflow_datasets\\imdb_reviews\\subwords8k\\0.1.0. Subsequent calls will reuse this data.\u001b[0m\n"
     ]
    },
    {
     "name": "stderr",
     "output_type": "stream",
     "text": [
      "WARNING:absl:Warning: Setting shuffle_files=True because split=TRAIN and shuffle_files=None. This behavior will be deprecated on 2019-08-06, at which point shuffle_files=False will be the default for all splits.\n"
     ]
    }
   ],
   "source": [
    "dataset, info = tfds.load('imdb_reviews/subwords8k', with_info=True, as_supervised=True)\n",
    "train_dataset, test_dataset = dataset['train'], dataset['test']\n",
    "\n",
    "tokenizer = info.features['text'].encoder\n",
    "\n",
    "BUFFER_SIZE = 10000\n",
    "BATCH_SIZE = 64\n",
    "\n",
    "train_dataset = train_dataset.shuffle(BUFFER_SIZE)\n",
    "train_dataset = train_dataset.padded_batch(BATCH_SIZE, tf.compat.v1.data.get_output_shapes(train_dataset))\n",
    "test_dataset = test_dataset.padded_batch(BATCH_SIZE, tf.compat.v1.data.get_output_shapes(test_dataset))"
   ]
  },
  {
   "cell_type": "code",
   "execution_count": 35,
   "metadata": {},
   "outputs": [
    {
     "name": "stdout",
     "output_type": "stream",
     "text": [
      "Model: \"sequential_2\"\n",
      "_________________________________________________________________\n",
      "Layer (type)                 Output Shape              Param #   \n",
      "=================================================================\n",
      "embedding_2 (Embedding)      (None, 120, 16)           160000    \n",
      "_________________________________________________________________\n",
      "bidirectional (Bidirectional (None, 128)               41472     \n",
      "_________________________________________________________________\n",
      "dense_4 (Dense)              (None, 6)                 774       \n",
      "_________________________________________________________________\n",
      "dense_5 (Dense)              (None, 1)                 7         \n",
      "=================================================================\n",
      "Total params: 202,253\n",
      "Trainable params: 202,253\n",
      "Non-trainable params: 0\n",
      "_________________________________________________________________\n"
     ]
    }
   ],
   "source": [
    "model = tf.keras.Sequential([\n",
    "    tf.keras.layers.Embedding(vocab_size, embedding_dim, input_length=max_length), #Magic Layer for embedding\n",
    "    tf.keras.layers.Bidirectional(tf.keras.layers.LSTM(64)), #Instead of Flatten() and Global...()\n",
    "    #tf.keras.layers.Bidirectional(tf.keras.layers.LSTM(64, return_sequences=True)),\n",
    "    #tf.keras.layers.Bidirectional(tf.keras.layers.LSTM(32)), --> multilayer lstm\n",
    "    tf.keras.layers.Dense(6, activation='relu'),\n",
    "    tf.keras.layers.Dense(1, activation='sigmoid')\n",
    "])\n",
    "model.compile(loss='binary_crossentropy',optimizer='adam',metrics=['accuracy'])\n",
    "model.summary()"
   ]
  },
  {
   "cell_type": "code",
   "execution_count": null,
   "metadata": {},
   "outputs": [],
   "source": [
    "import matplotlib.pyplot as plt\n",
    "\n",
    "\n",
    "def plot_graphs(history, string):\n",
    "  plt.plot(history.history[string])\n",
    "  plt.plot(history.history['val_'+string])\n",
    "  plt.xlabel(\"Epochs\")\n",
    "  plt.ylabel(string)\n",
    "  plt.legend([string, 'val_'+string])\n",
    "  plt.show()\n",
    "    \n",
    "plot_graphs(history, 'accuracy')"
   ]
  },
  {
   "cell_type": "markdown",
   "metadata": {},
   "source": [
    "## Sequence Models\n",
    "\n",
    "Predict the last word in a sentence."
   ]
  },
  {
   "cell_type": "code",
   "execution_count": 37,
   "metadata": {},
   "outputs": [],
   "source": [
    "tokenizer = Tokenizer()\n",
    "\n",
    "data=\"In the town of Athy one Jeremy Lanigan \\n Battered away til he hadnt a pound. \\nHis father died and made him a man again \\n Left him a farm and ten acres of ground. \\nHe gave a grand party for friends and relations \\nWho didnt forget him when come to the wall, \\nAnd if youll but listen Ill make your eyes glisten \\nOf the rows and the ructions of Lanigans Ball. \\nMyself to be sure got free invitation, \\nFor all the nice girls and boys I might ask, \\nAnd just in a minute both friends and relations \\nWere dancing round merry as bees round a cask. \\nJudy ODaly, that nice little milliner, \\nShe tipped me a wink for to give her a call, \\nAnd I soon arrived with Peggy McGilligan \\nJust in time for Lanigans Ball. \\nThere were lashings of punch and wine for the ladies, \\nPotatoes and cakes; there was bacon and tea, \\nThere were the Nolans, Dolans, OGradys \\nCourting the girls and dancing away. \\nSongs they went round as plenty as water, \\nThe harp that once sounded in Taras old hall,\\nSweet Nelly Gray and The Rat Catchers Daughter,\\nAll singing together at Lanigans Ball. \\nThey were doing all kinds of nonsensical polkas \\nAll round the room in a whirligig. \\nJulia and I, we banished their nonsense \\nAnd tipped them the twist of a reel and a jig. \\nAch mavrone, how the girls got all mad at me \\nDanced til youd think the ceiling would fall. \\nFor I spent three weeks at Brooks Academy \\nLearning new steps for Lanigans Ball. \\nThree long weeks I spent up in Dublin, \\nThree long weeks to learn nothing at all,\\n Three long weeks I spent up in Dublin, \\nLearning new steps for Lanigans Ball. \\nShe stepped out and I stepped in again, \\nI stepped out and she stepped in again, \\nShe stepped out and I stepped in again, \\nLearning new steps for Lanigans Ball. \\nBoys were all merry and the girls they were hearty \\nAnd danced all around in couples and groups, \\nTil an accident happened, young Terrance McCarthy \\nPut his right leg through miss Finnertys hoops. \\nPoor creature fainted and cried Meelia murther, \\nCalled for her brothers and gathered them all. \\nCarmody swore that hed go no further \\nTil he had satisfaction at Lanigans Ball. \\nIn the midst of the row miss Kerrigan fainted, \\nHer cheeks at the same time as red as a rose. \\nSome of the lads declared she was painted, \\nShe took a small drop too much, I suppose. \\nHer sweetheart, Ned Morgan, so powerful and able, \\nWhen he saw his fair colleen stretched out by the wall, \\nTore the left leg from under the table \\nAnd smashed all the Chaneys at Lanigans Ball. \\nBoys, oh boys, twas then there were runctions. \\nMyself got a lick from big Phelim McHugh. \\nI soon replied to his introduction \\nAnd kicked up a terrible hullabaloo. \\nOld Casey, the piper, was near being strangled. \\nThey squeezed up his pipes, bellows, chanters and all. \\nThe girls, in their ribbons, they got all entangled \\nAnd that put an end to Lanigans Ball.\"\n",
    "\n",
    "corpus = data.lower().split(\"\\n\")\n",
    "\n",
    "tokenizer.fit_on_texts(corpus)\n",
    "total_words = len(tokenizer.word_index) + 1 #+1 for out of vocabulary words\n",
    "\n",
    "input_sequences = []\n",
    "for line in corpus:\n",
    "    token_list = tokenizer.texts_to_sequences([line])[0] #turn words to codes based on tokenizer above\n",
    "    for i in range(1, len(token_list)): #Turn one sencence to many, word 1, word 1 and 2, word 1,2,3 ...\n",
    "        n_gram_sequence = token_list[:i+1] \n",
    "        input_sequences.append(n_gram_sequence)\n",
    "\n",
    "# pad sequences \n",
    "max_sequence_len = max([len(x) for x in input_sequences]) #Max of input_sequences\n",
    "input_sequences = np.array(pad_sequences(input_sequences, maxlen=max_sequence_len, padding='pre'))\n",
    "\n",
    "# create predictors and label\n",
    "xs, labels = input_sequences[:,:-1],input_sequences[:,-1]\n",
    "\n",
    "ys = tf.keras.utils.to_categorical(labels, num_classes=total_words)"
   ]
  },
  {
   "cell_type": "code",
   "execution_count": 42,
   "metadata": {},
   "outputs": [
    {
     "name": "stdout",
     "output_type": "stream",
     "text": [
      "Train on 453 samples\n",
      "Epoch 1/500\n",
      "453/453 - 5s - loss: 5.5694 - accuracy: 0.0132\n",
      "Epoch 2/500\n",
      "453/453 - 0s - loss: 5.5494 - accuracy: 0.0596\n",
      "Epoch 3/500\n",
      "453/453 - 0s - loss: 5.5076 - accuracy: 0.0486\n",
      "Epoch 4/500\n",
      "453/453 - 0s - loss: 5.3708 - accuracy: 0.0508\n",
      "Epoch 5/500\n",
      "453/453 - 0s - loss: 5.1539 - accuracy: 0.0618\n",
      "Epoch 6/500\n",
      "453/453 - 0s - loss: 5.0712 - accuracy: 0.0486\n",
      "Epoch 7/500\n",
      "453/453 - 0s - loss: 5.0118 - accuracy: 0.0618\n",
      "Epoch 8/500\n",
      "453/453 - 0s - loss: 4.9655 - accuracy: 0.0552\n",
      "Epoch 9/500\n",
      "453/453 - 0s - loss: 4.9210 - accuracy: 0.0574\n",
      "Epoch 10/500\n",
      "453/453 - 0s - loss: 4.8775 - accuracy: 0.0552\n",
      "Epoch 11/500\n",
      "453/453 - 0s - loss: 4.8280 - accuracy: 0.0596\n",
      "Epoch 12/500\n",
      "453/453 - 0s - loss: 4.7742 - accuracy: 0.0596\n",
      "Epoch 13/500\n",
      "453/453 - 0s - loss: 4.7210 - accuracy: 0.0751\n",
      "Epoch 14/500\n",
      "453/453 - 0s - loss: 4.6680 - accuracy: 0.0839\n",
      "Epoch 15/500\n",
      "453/453 - 0s - loss: 4.6120 - accuracy: 0.0817\n",
      "Epoch 16/500\n",
      "453/453 - 0s - loss: 4.5566 - accuracy: 0.0905\n",
      "Epoch 17/500\n",
      "453/453 - 0s - loss: 4.5005 - accuracy: 0.0861\n",
      "Epoch 18/500\n",
      "453/453 - 0s - loss: 4.4489 - accuracy: 0.1015\n",
      "Epoch 19/500\n",
      "453/453 - 0s - loss: 4.3901 - accuracy: 0.1060\n",
      "Epoch 20/500\n",
      "453/453 - 0s - loss: 4.3439 - accuracy: 0.1060\n",
      "Epoch 21/500\n",
      "453/453 - 0s - loss: 4.2996 - accuracy: 0.1104\n",
      "Epoch 22/500\n",
      "453/453 - 0s - loss: 4.2547 - accuracy: 0.1126\n",
      "Epoch 23/500\n",
      "453/453 - 0s - loss: 4.2196 - accuracy: 0.1170\n",
      "Epoch 24/500\n",
      "453/453 - 0s - loss: 4.1772 - accuracy: 0.1170\n",
      "Epoch 25/500\n",
      "453/453 - 0s - loss: 4.1362 - accuracy: 0.1280\n",
      "Epoch 26/500\n",
      "453/453 - 0s - loss: 4.0924 - accuracy: 0.1347\n",
      "Epoch 27/500\n",
      "453/453 - 0s - loss: 4.0571 - accuracy: 0.1369\n",
      "Epoch 28/500\n",
      "453/453 - 0s - loss: 4.0164 - accuracy: 0.1457\n",
      "Epoch 29/500\n",
      "453/453 - 0s - loss: 3.9763 - accuracy: 0.1678\n",
      "Epoch 30/500\n",
      "453/453 - 0s - loss: 3.9381 - accuracy: 0.1523\n",
      "Epoch 31/500\n",
      "453/453 - 0s - loss: 3.8970 - accuracy: 0.1700\n",
      "Epoch 32/500\n",
      "453/453 - 0s - loss: 3.8620 - accuracy: 0.1810\n",
      "Epoch 33/500\n",
      "453/453 - 0s - loss: 3.8198 - accuracy: 0.1854\n",
      "Epoch 34/500\n",
      "453/453 - 0s - loss: 3.7892 - accuracy: 0.1921\n",
      "Epoch 35/500\n",
      "453/453 - 0s - loss: 3.7456 - accuracy: 0.2009\n",
      "Epoch 36/500\n",
      "453/453 - 0s - loss: 3.6949 - accuracy: 0.2185\n",
      "Epoch 37/500\n",
      "453/453 - 0s - loss: 3.6566 - accuracy: 0.2185\n",
      "Epoch 38/500\n",
      "453/453 - 0s - loss: 3.6157 - accuracy: 0.2450\n",
      "Epoch 39/500\n",
      "453/453 - 0s - loss: 3.5787 - accuracy: 0.2318\n",
      "Epoch 40/500\n",
      "453/453 - 0s - loss: 3.5329 - accuracy: 0.2627\n",
      "Epoch 41/500\n",
      "453/453 - 0s - loss: 3.4920 - accuracy: 0.2649\n",
      "Epoch 42/500\n",
      "453/453 - 0s - loss: 3.4685 - accuracy: 0.2539\n",
      "Epoch 43/500\n",
      "453/453 - 0s - loss: 3.4172 - accuracy: 0.2848\n",
      "Epoch 44/500\n",
      "453/453 - 0s - loss: 3.3820 - accuracy: 0.2914\n",
      "Epoch 45/500\n",
      "453/453 - 0s - loss: 3.3336 - accuracy: 0.3179\n",
      "Epoch 46/500\n",
      "453/453 - 0s - loss: 3.2951 - accuracy: 0.3068\n",
      "Epoch 47/500\n",
      "453/453 - 0s - loss: 3.2578 - accuracy: 0.3179\n",
      "Epoch 48/500\n",
      "453/453 - 0s - loss: 3.2191 - accuracy: 0.3311\n",
      "Epoch 49/500\n",
      "453/453 - 0s - loss: 3.1865 - accuracy: 0.3333\n",
      "Epoch 50/500\n",
      "453/453 - 0s - loss: 3.1511 - accuracy: 0.3333\n",
      "Epoch 51/500\n",
      "453/453 - 0s - loss: 3.1265 - accuracy: 0.3466\n",
      "Epoch 52/500\n",
      "453/453 - 0s - loss: 3.1075 - accuracy: 0.3377\n",
      "Epoch 53/500\n",
      "453/453 - 0s - loss: 3.0596 - accuracy: 0.3422\n",
      "Epoch 54/500\n",
      "453/453 - 0s - loss: 3.0220 - accuracy: 0.3510\n",
      "Epoch 55/500\n",
      "453/453 - 0s - loss: 2.9774 - accuracy: 0.3642\n",
      "Epoch 56/500\n",
      "453/453 - 0s - loss: 2.9458 - accuracy: 0.4128\n",
      "Epoch 57/500\n",
      "453/453 - 0s - loss: 2.9081 - accuracy: 0.4216\n",
      "Epoch 58/500\n",
      "453/453 - 0s - loss: 2.8770 - accuracy: 0.4393\n",
      "Epoch 59/500\n",
      "453/453 - 0s - loss: 2.8468 - accuracy: 0.4415\n",
      "Epoch 60/500\n",
      "453/453 - 0s - loss: 2.8263 - accuracy: 0.4503\n",
      "Epoch 61/500\n",
      "453/453 - 0s - loss: 2.8036 - accuracy: 0.4481\n",
      "Epoch 62/500\n",
      "453/453 - 0s - loss: 2.7778 - accuracy: 0.4481\n",
      "Epoch 63/500\n",
      "453/453 - 0s - loss: 2.7521 - accuracy: 0.4570\n",
      "Epoch 64/500\n",
      "453/453 - 0s - loss: 2.7371 - accuracy: 0.4658\n",
      "Epoch 65/500\n",
      "453/453 - 0s - loss: 2.7277 - accuracy: 0.4746\n",
      "Epoch 66/500\n",
      "453/453 - 0s - loss: 2.6814 - accuracy: 0.4879\n",
      "Epoch 67/500\n",
      "453/453 - 0s - loss: 2.6285 - accuracy: 0.4834\n",
      "Epoch 68/500\n",
      "453/453 - 0s - loss: 2.6019 - accuracy: 0.4967\n",
      "Epoch 69/500\n",
      "453/453 - 0s - loss: 2.5774 - accuracy: 0.5210\n",
      "Epoch 70/500\n",
      "453/453 - 0s - loss: 2.5399 - accuracy: 0.5077\n",
      "Epoch 71/500\n",
      "453/453 - 0s - loss: 2.5092 - accuracy: 0.5276\n",
      "Epoch 72/500\n",
      "453/453 - 0s - loss: 2.4764 - accuracy: 0.5276\n",
      "Epoch 73/500\n",
      "453/453 - 0s - loss: 2.4471 - accuracy: 0.5298\n",
      "Epoch 74/500\n",
      "453/453 - 0s - loss: 2.4238 - accuracy: 0.5408\n",
      "Epoch 75/500\n",
      "453/453 - 0s - loss: 2.4014 - accuracy: 0.5430\n",
      "Epoch 76/500\n",
      "453/453 - 0s - loss: 2.3766 - accuracy: 0.5320\n",
      "Epoch 77/500\n",
      "453/453 - 0s - loss: 2.3519 - accuracy: 0.5453\n",
      "Epoch 78/500\n",
      "453/453 - 0s - loss: 2.3215 - accuracy: 0.5475\n",
      "Epoch 79/500\n",
      "453/453 - 0s - loss: 2.2910 - accuracy: 0.5673\n",
      "Epoch 80/500\n",
      "453/453 - 0s - loss: 2.2700 - accuracy: 0.5695\n",
      "Epoch 81/500\n",
      "453/453 - 0s - loss: 2.2490 - accuracy: 0.5717\n",
      "Epoch 82/500\n",
      "453/453 - 0s - loss: 2.2252 - accuracy: 0.5740\n",
      "Epoch 83/500\n",
      "453/453 - 0s - loss: 2.1973 - accuracy: 0.5717\n",
      "Epoch 84/500\n",
      "453/453 - 0s - loss: 2.1742 - accuracy: 0.6004\n",
      "Epoch 85/500\n",
      "453/453 - 0s - loss: 2.1526 - accuracy: 0.6071\n",
      "Epoch 86/500\n",
      "453/453 - 0s - loss: 2.1407 - accuracy: 0.6004\n",
      "Epoch 87/500\n",
      "453/453 - 0s - loss: 2.1084 - accuracy: 0.6203\n",
      "Epoch 88/500\n",
      "453/453 - 0s - loss: 2.0855 - accuracy: 0.6247\n",
      "Epoch 89/500\n",
      "453/453 - 0s - loss: 2.0586 - accuracy: 0.6291\n",
      "Epoch 90/500\n",
      "453/453 - 0s - loss: 2.0437 - accuracy: 0.6269\n",
      "Epoch 91/500\n",
      "453/453 - 0s - loss: 2.0157 - accuracy: 0.6291\n",
      "Epoch 92/500\n",
      "453/453 - 0s - loss: 1.9959 - accuracy: 0.6402\n",
      "Epoch 93/500\n",
      "453/453 - 0s - loss: 1.9682 - accuracy: 0.6600\n",
      "Epoch 94/500\n",
      "453/453 - 0s - loss: 1.9443 - accuracy: 0.6556\n",
      "Epoch 95/500\n",
      "453/453 - 0s - loss: 1.9237 - accuracy: 0.6645\n",
      "Epoch 96/500\n",
      "453/453 - 0s - loss: 1.9045 - accuracy: 0.6667\n",
      "Epoch 97/500\n",
      "453/453 - 0s - loss: 1.8886 - accuracy: 0.6821\n",
      "Epoch 98/500\n",
      "453/453 - 0s - loss: 1.8698 - accuracy: 0.6821\n",
      "Epoch 99/500\n",
      "453/453 - 0s - loss: 1.8457 - accuracy: 0.6733\n",
      "Epoch 100/500\n",
      "453/453 - 0s - loss: 1.8207 - accuracy: 0.6777\n",
      "Epoch 101/500\n",
      "453/453 - 0s - loss: 1.7997 - accuracy: 0.6932\n",
      "Epoch 102/500\n",
      "453/453 - 0s - loss: 1.7819 - accuracy: 0.6954\n",
      "Epoch 103/500\n",
      "453/453 - 0s - loss: 1.7611 - accuracy: 0.6998\n",
      "Epoch 104/500\n",
      "453/453 - 0s - loss: 1.7575 - accuracy: 0.6976\n",
      "Epoch 105/500\n",
      "453/453 - 0s - loss: 1.7326 - accuracy: 0.7064\n",
      "Epoch 106/500\n",
      "453/453 - 0s - loss: 1.7215 - accuracy: 0.7020\n",
      "Epoch 107/500\n",
      "453/453 - 0s - loss: 1.7156 - accuracy: 0.7174\n",
      "Epoch 108/500\n",
      "453/453 - 0s - loss: 1.7065 - accuracy: 0.7042\n",
      "Epoch 109/500\n",
      "453/453 - 0s - loss: 1.6856 - accuracy: 0.7042\n",
      "Epoch 110/500\n",
      "453/453 - 0s - loss: 1.6582 - accuracy: 0.7130\n",
      "Epoch 111/500\n",
      "453/453 - 0s - loss: 1.6302 - accuracy: 0.7219\n",
      "Epoch 112/500\n",
      "453/453 - 0s - loss: 1.6178 - accuracy: 0.7373\n",
      "Epoch 113/500\n",
      "453/453 - 0s - loss: 1.5945 - accuracy: 0.7351\n",
      "Epoch 114/500\n",
      "453/453 - 0s - loss: 1.5802 - accuracy: 0.7351\n",
      "Epoch 115/500\n",
      "453/453 - 0s - loss: 1.5632 - accuracy: 0.7373\n",
      "Epoch 116/500\n",
      "453/453 - 0s - loss: 1.5602 - accuracy: 0.7373\n",
      "Epoch 117/500\n",
      "453/453 - 0s - loss: 1.5355 - accuracy: 0.7550\n",
      "Epoch 118/500\n",
      "453/453 - 0s - loss: 1.5245 - accuracy: 0.7483\n",
      "Epoch 119/500\n",
      "453/453 - 0s - loss: 1.5054 - accuracy: 0.7572\n",
      "Epoch 120/500\n",
      "453/453 - 0s - loss: 1.4890 - accuracy: 0.7704\n",
      "Epoch 121/500\n",
      "453/453 - 0s - loss: 1.4659 - accuracy: 0.7704\n",
      "Epoch 122/500\n",
      "453/453 - 0s - loss: 1.4507 - accuracy: 0.7792\n",
      "Epoch 123/500\n",
      "453/453 - 0s - loss: 1.4395 - accuracy: 0.7815\n",
      "Epoch 124/500\n",
      "453/453 - 0s - loss: 1.4200 - accuracy: 0.7903\n",
      "Epoch 125/500\n",
      "453/453 - 0s - loss: 1.4022 - accuracy: 0.7903\n",
      "Epoch 126/500\n",
      "453/453 - 0s - loss: 1.3944 - accuracy: 0.7881\n",
      "Epoch 127/500\n",
      "453/453 - 0s - loss: 1.3803 - accuracy: 0.7947\n",
      "Epoch 128/500\n",
      "453/453 - 0s - loss: 1.3673 - accuracy: 0.7859\n",
      "Epoch 129/500\n",
      "453/453 - 0s - loss: 1.3535 - accuracy: 0.7903\n",
      "Epoch 130/500\n",
      "453/453 - 0s - loss: 1.3365 - accuracy: 0.7881\n",
      "Epoch 131/500\n",
      "453/453 - 0s - loss: 1.3181 - accuracy: 0.7991\n",
      "Epoch 132/500\n",
      "453/453 - 0s - loss: 1.3066 - accuracy: 0.7969\n",
      "Epoch 133/500\n",
      "453/453 - 0s - loss: 1.2902 - accuracy: 0.8013\n",
      "Epoch 134/500\n",
      "453/453 - 0s - loss: 1.2765 - accuracy: 0.8057\n",
      "Epoch 135/500\n",
      "453/453 - 0s - loss: 1.2620 - accuracy: 0.7969\n",
      "Epoch 136/500\n",
      "453/453 - 0s - loss: 1.2463 - accuracy: 0.8124\n"
     ]
    },
    {
     "name": "stdout",
     "output_type": "stream",
     "text": [
      "Epoch 137/500\n",
      "453/453 - 0s - loss: 1.2407 - accuracy: 0.8057\n",
      "Epoch 138/500\n",
      "453/453 - 0s - loss: 1.2318 - accuracy: 0.8035\n",
      "Epoch 139/500\n",
      "453/453 - 0s - loss: 1.2141 - accuracy: 0.8168\n",
      "Epoch 140/500\n",
      "453/453 - 0s - loss: 1.1975 - accuracy: 0.8190\n",
      "Epoch 141/500\n",
      "453/453 - 0s - loss: 1.1993 - accuracy: 0.8124\n",
      "Epoch 142/500\n",
      "453/453 - 0s - loss: 1.1892 - accuracy: 0.8168\n",
      "Epoch 143/500\n",
      "453/453 - 0s - loss: 1.1774 - accuracy: 0.8190\n",
      "Epoch 144/500\n",
      "453/453 - 0s - loss: 1.1696 - accuracy: 0.8168\n",
      "Epoch 145/500\n",
      "453/453 - 0s - loss: 1.1557 - accuracy: 0.8212\n",
      "Epoch 146/500\n",
      "453/453 - 0s - loss: 1.1461 - accuracy: 0.8124\n",
      "Epoch 147/500\n",
      "453/453 - 0s - loss: 1.1406 - accuracy: 0.8168\n",
      "Epoch 148/500\n",
      "453/453 - 0s - loss: 1.1242 - accuracy: 0.8278\n",
      "Epoch 149/500\n",
      "453/453 - 0s - loss: 1.1037 - accuracy: 0.8212\n",
      "Epoch 150/500\n",
      "453/453 - 0s - loss: 1.0882 - accuracy: 0.8300\n",
      "Epoch 151/500\n",
      "453/453 - 0s - loss: 1.0745 - accuracy: 0.8278\n",
      "Epoch 152/500\n",
      "453/453 - 0s - loss: 1.0632 - accuracy: 0.8278\n",
      "Epoch 153/500\n",
      "453/453 - 0s - loss: 1.0510 - accuracy: 0.8300\n",
      "Epoch 154/500\n",
      "453/453 - 0s - loss: 1.0423 - accuracy: 0.8344\n",
      "Epoch 155/500\n",
      "453/453 - 0s - loss: 1.0311 - accuracy: 0.8366\n",
      "Epoch 156/500\n",
      "453/453 - 0s - loss: 1.0216 - accuracy: 0.8366\n",
      "Epoch 157/500\n",
      "453/453 - 0s - loss: 1.0126 - accuracy: 0.8389\n",
      "Epoch 158/500\n",
      "453/453 - 0s - loss: 1.0095 - accuracy: 0.8433\n",
      "Epoch 159/500\n",
      "453/453 - 0s - loss: 1.0015 - accuracy: 0.8477\n",
      "Epoch 160/500\n",
      "453/453 - 0s - loss: 0.9934 - accuracy: 0.8433\n",
      "Epoch 161/500\n",
      "453/453 - 0s - loss: 0.9921 - accuracy: 0.8366\n",
      "Epoch 162/500\n",
      "453/453 - 0s - loss: 1.0079 - accuracy: 0.8344\n",
      "Epoch 163/500\n",
      "453/453 - 0s - loss: 1.0334 - accuracy: 0.8212\n",
      "Epoch 164/500\n",
      "453/453 - 0s - loss: 1.0177 - accuracy: 0.8344\n",
      "Epoch 165/500\n",
      "453/453 - 0s - loss: 0.9849 - accuracy: 0.8411\n",
      "Epoch 166/500\n",
      "453/453 - 0s - loss: 0.9702 - accuracy: 0.8389\n",
      "Epoch 167/500\n",
      "453/453 - 0s - loss: 0.9689 - accuracy: 0.8455\n",
      "Epoch 168/500\n",
      "453/453 - 0s - loss: 0.9474 - accuracy: 0.8521\n",
      "Epoch 169/500\n",
      "453/453 - 0s - loss: 0.9203 - accuracy: 0.8565\n",
      "Epoch 170/500\n",
      "453/453 - 0s - loss: 0.9077 - accuracy: 0.8609\n",
      "Epoch 171/500\n",
      "453/453 - 0s - loss: 0.8962 - accuracy: 0.8587\n",
      "Epoch 172/500\n",
      "453/453 - 0s - loss: 0.8826 - accuracy: 0.8631\n",
      "Epoch 173/500\n",
      "453/453 - 0s - loss: 0.8678 - accuracy: 0.8698\n",
      "Epoch 174/500\n",
      "453/453 - 0s - loss: 0.8585 - accuracy: 0.8653\n",
      "Epoch 175/500\n",
      "453/453 - 0s - loss: 0.8521 - accuracy: 0.8698\n",
      "Epoch 176/500\n",
      "453/453 - 0s - loss: 0.8439 - accuracy: 0.8675\n",
      "Epoch 177/500\n",
      "453/453 - 0s - loss: 0.8380 - accuracy: 0.8808\n",
      "Epoch 178/500\n",
      "453/453 - 0s - loss: 0.8307 - accuracy: 0.8742\n",
      "Epoch 179/500\n",
      "453/453 - 0s - loss: 0.8226 - accuracy: 0.8808\n",
      "Epoch 180/500\n",
      "453/453 - 0s - loss: 0.8104 - accuracy: 0.8852\n",
      "Epoch 181/500\n",
      "453/453 - 0s - loss: 0.8035 - accuracy: 0.8852\n",
      "Epoch 182/500\n",
      "453/453 - 0s - loss: 0.7962 - accuracy: 0.8808\n",
      "Epoch 183/500\n",
      "453/453 - 0s - loss: 0.7871 - accuracy: 0.8874\n",
      "Epoch 184/500\n",
      "453/453 - 0s - loss: 0.7800 - accuracy: 0.8808\n",
      "Epoch 185/500\n",
      "453/453 - 0s - loss: 0.7715 - accuracy: 0.8808\n",
      "Epoch 186/500\n",
      "453/453 - 0s - loss: 0.7647 - accuracy: 0.8852\n",
      "Epoch 187/500\n",
      "453/453 - 0s - loss: 0.7566 - accuracy: 0.8830\n",
      "Epoch 188/500\n",
      "453/453 - 0s - loss: 0.7514 - accuracy: 0.8940\n",
      "Epoch 189/500\n",
      "453/453 - 0s - loss: 0.7440 - accuracy: 0.8962\n",
      "Epoch 190/500\n",
      "453/453 - 0s - loss: 0.7370 - accuracy: 0.8896\n",
      "Epoch 191/500\n",
      "453/453 - 0s - loss: 0.7306 - accuracy: 0.8940\n",
      "Epoch 192/500\n",
      "453/453 - 0s - loss: 0.7277 - accuracy: 0.8962\n",
      "Epoch 193/500\n",
      "453/453 - 0s - loss: 0.7210 - accuracy: 0.8874\n",
      "Epoch 194/500\n",
      "453/453 - 0s - loss: 0.7110 - accuracy: 0.8918\n",
      "Epoch 195/500\n",
      "453/453 - 0s - loss: 0.7129 - accuracy: 0.8918\n",
      "Epoch 196/500\n",
      "453/453 - 0s - loss: 0.7007 - accuracy: 0.8962\n",
      "Epoch 197/500\n",
      "453/453 - 0s - loss: 0.6928 - accuracy: 0.8918\n",
      "Epoch 198/500\n",
      "453/453 - 0s - loss: 0.6928 - accuracy: 0.8985\n",
      "Epoch 199/500\n",
      "453/453 - 0s - loss: 0.6848 - accuracy: 0.8940\n",
      "Epoch 200/500\n",
      "453/453 - 0s - loss: 0.6773 - accuracy: 0.9007\n",
      "Epoch 201/500\n",
      "453/453 - 0s - loss: 0.6702 - accuracy: 0.9029\n",
      "Epoch 202/500\n",
      "453/453 - 0s - loss: 0.6637 - accuracy: 0.9051\n",
      "Epoch 203/500\n",
      "453/453 - 0s - loss: 0.6776 - accuracy: 0.9007\n",
      "Epoch 204/500\n",
      "453/453 - 0s - loss: 0.6694 - accuracy: 0.9007\n",
      "Epoch 205/500\n",
      "453/453 - 0s - loss: 0.6612 - accuracy: 0.9029\n",
      "Epoch 206/500\n",
      "453/453 - 0s - loss: 0.6599 - accuracy: 0.8985\n",
      "Epoch 207/500\n",
      "453/453 - 0s - loss: 0.6634 - accuracy: 0.8962\n",
      "Epoch 208/500\n",
      "453/453 - 0s - loss: 0.6604 - accuracy: 0.9007\n",
      "Epoch 209/500\n",
      "453/453 - 0s - loss: 0.6636 - accuracy: 0.8962\n",
      "Epoch 210/500\n",
      "453/453 - 0s - loss: 0.6496 - accuracy: 0.8940\n",
      "Epoch 211/500\n",
      "453/453 - 0s - loss: 0.6307 - accuracy: 0.9007\n",
      "Epoch 212/500\n",
      "453/453 - 0s - loss: 0.6265 - accuracy: 0.9073\n",
      "Epoch 213/500\n",
      "453/453 - 0s - loss: 0.6192 - accuracy: 0.9073\n",
      "Epoch 214/500\n",
      "453/453 - 0s - loss: 0.6117 - accuracy: 0.9073\n",
      "Epoch 215/500\n",
      "453/453 - 0s - loss: 0.6021 - accuracy: 0.9073\n",
      "Epoch 216/500\n",
      "453/453 - 0s - loss: 0.6282 - accuracy: 0.9029\n",
      "Epoch 217/500\n",
      "453/453 - 0s - loss: 0.6315 - accuracy: 0.9029\n",
      "Epoch 218/500\n",
      "453/453 - 0s - loss: 0.6160 - accuracy: 0.9051\n",
      "Epoch 219/500\n",
      "453/453 - 0s - loss: 0.6280 - accuracy: 0.8985\n",
      "Epoch 220/500\n",
      "453/453 - 0s - loss: 0.6037 - accuracy: 0.9139\n",
      "Epoch 221/500\n",
      "453/453 - 0s - loss: 0.6166 - accuracy: 0.9117\n",
      "Epoch 222/500\n",
      "453/453 - 0s - loss: 0.5926 - accuracy: 0.9139\n",
      "Epoch 223/500\n",
      "453/453 - 0s - loss: 0.5782 - accuracy: 0.9139\n",
      "Epoch 224/500\n",
      "453/453 - 0s - loss: 0.5655 - accuracy: 0.9183\n",
      "Epoch 225/500\n",
      "453/453 - 0s - loss: 0.5562 - accuracy: 0.9117\n",
      "Epoch 226/500\n",
      "453/453 - 0s - loss: 0.5451 - accuracy: 0.9205\n",
      "Epoch 227/500\n",
      "453/453 - 0s - loss: 0.5363 - accuracy: 0.9227\n",
      "Epoch 228/500\n",
      "453/453 - 0s - loss: 0.5327 - accuracy: 0.9161\n",
      "Epoch 229/500\n",
      "453/453 - 0s - loss: 0.5306 - accuracy: 0.9249\n",
      "Epoch 230/500\n",
      "453/453 - 0s - loss: 0.5253 - accuracy: 0.9227\n",
      "Epoch 231/500\n",
      "453/453 - 0s - loss: 0.5173 - accuracy: 0.9249\n",
      "Epoch 232/500\n",
      "453/453 - 0s - loss: 0.5151 - accuracy: 0.9316\n",
      "Epoch 233/500\n",
      "453/453 - 0s - loss: 0.5127 - accuracy: 0.9249\n",
      "Epoch 234/500\n",
      "453/453 - 0s - loss: 0.5088 - accuracy: 0.9249\n",
      "Epoch 235/500\n",
      "453/453 - 0s - loss: 0.5001 - accuracy: 0.9294\n",
      "Epoch 236/500\n",
      "453/453 - 0s - loss: 0.4961 - accuracy: 0.9294\n",
      "Epoch 237/500\n",
      "453/453 - 0s - loss: 0.4909 - accuracy: 0.9294\n",
      "Epoch 238/500\n",
      "453/453 - 0s - loss: 0.4872 - accuracy: 0.9360\n",
      "Epoch 239/500\n",
      "453/453 - 0s - loss: 0.4843 - accuracy: 0.9316\n",
      "Epoch 240/500\n",
      "453/453 - 0s - loss: 0.4874 - accuracy: 0.9360\n",
      "Epoch 241/500\n",
      "453/453 - 0s - loss: 0.4802 - accuracy: 0.9294\n",
      "Epoch 242/500\n",
      "453/453 - 0s - loss: 0.4723 - accuracy: 0.9316\n",
      "Epoch 243/500\n",
      "453/453 - 0s - loss: 0.4675 - accuracy: 0.9338\n",
      "Epoch 244/500\n",
      "453/453 - 0s - loss: 0.4638 - accuracy: 0.9360\n",
      "Epoch 245/500\n",
      "453/453 - 0s - loss: 0.4591 - accuracy: 0.9382\n",
      "Epoch 246/500\n",
      "453/453 - 0s - loss: 0.4553 - accuracy: 0.9382\n",
      "Epoch 247/500\n",
      "453/453 - 0s - loss: 0.4505 - accuracy: 0.9404\n",
      "Epoch 248/500\n",
      "453/453 - 0s - loss: 0.4527 - accuracy: 0.9360\n",
      "Epoch 249/500\n",
      "453/453 - 0s - loss: 0.4462 - accuracy: 0.9382\n",
      "Epoch 250/500\n",
      "453/453 - 0s - loss: 0.4425 - accuracy: 0.9404\n",
      "Epoch 251/500\n",
      "453/453 - 0s - loss: 0.4353 - accuracy: 0.9382\n",
      "Epoch 252/500\n",
      "453/453 - 0s - loss: 0.4321 - accuracy: 0.9404\n",
      "Epoch 253/500\n",
      "453/453 - 0s - loss: 0.4283 - accuracy: 0.9404\n",
      "Epoch 254/500\n",
      "453/453 - 0s - loss: 0.4250 - accuracy: 0.9426\n",
      "Epoch 255/500\n",
      "453/453 - 0s - loss: 0.4218 - accuracy: 0.9404\n",
      "Epoch 256/500\n",
      "453/453 - 0s - loss: 0.4219 - accuracy: 0.9404\n",
      "Epoch 257/500\n",
      "453/453 - 0s - loss: 0.4166 - accuracy: 0.9404\n",
      "Epoch 258/500\n",
      "453/453 - 0s - loss: 0.4167 - accuracy: 0.9404\n",
      "Epoch 259/500\n",
      "453/453 - 0s - loss: 0.4106 - accuracy: 0.9426\n",
      "Epoch 260/500\n",
      "453/453 - 0s - loss: 0.4062 - accuracy: 0.9404\n",
      "Epoch 261/500\n",
      "453/453 - 0s - loss: 0.4028 - accuracy: 0.9426\n",
      "Epoch 262/500\n",
      "453/453 - 0s - loss: 0.3999 - accuracy: 0.9426\n",
      "Epoch 263/500\n",
      "453/453 - 0s - loss: 0.3972 - accuracy: 0.9426\n",
      "Epoch 264/500\n",
      "453/453 - 0s - loss: 0.3966 - accuracy: 0.9404\n",
      "Epoch 265/500\n",
      "453/453 - 0s - loss: 0.3927 - accuracy: 0.9404\n",
      "Epoch 266/500\n",
      "453/453 - 0s - loss: 0.3888 - accuracy: 0.9404\n",
      "Epoch 267/500\n",
      "453/453 - 0s - loss: 0.3856 - accuracy: 0.9382\n",
      "Epoch 268/500\n",
      "453/453 - 0s - loss: 0.3820 - accuracy: 0.9426\n",
      "Epoch 269/500\n",
      "453/453 - 0s - loss: 0.3816 - accuracy: 0.9382\n",
      "Epoch 270/500\n",
      "453/453 - 0s - loss: 0.3788 - accuracy: 0.9426\n",
      "Epoch 271/500\n",
      "453/453 - 0s - loss: 0.3739 - accuracy: 0.9426\n"
     ]
    },
    {
     "name": "stdout",
     "output_type": "stream",
     "text": [
      "Epoch 272/500\n",
      "453/453 - 0s - loss: 0.3710 - accuracy: 0.9426\n",
      "Epoch 273/500\n",
      "453/453 - 0s - loss: 0.3691 - accuracy: 0.9448\n",
      "Epoch 274/500\n",
      "453/453 - 0s - loss: 0.3663 - accuracy: 0.9426\n",
      "Epoch 275/500\n",
      "453/453 - 0s - loss: 0.4017 - accuracy: 0.9448\n",
      "Epoch 276/500\n",
      "453/453 - 0s - loss: 0.4109 - accuracy: 0.9404\n",
      "Epoch 277/500\n",
      "453/453 - 0s - loss: 0.4211 - accuracy: 0.9382\n",
      "Epoch 278/500\n",
      "453/453 - 0s - loss: 0.4862 - accuracy: 0.9029\n",
      "Epoch 279/500\n",
      "453/453 - 0s - loss: 0.5187 - accuracy: 0.8962\n",
      "Epoch 280/500\n",
      "453/453 - 0s - loss: 0.4803 - accuracy: 0.9095\n",
      "Epoch 281/500\n",
      "453/453 - 0s - loss: 0.4513 - accuracy: 0.9183\n",
      "Epoch 282/500\n",
      "453/453 - 0s - loss: 0.4985 - accuracy: 0.9139\n",
      "Epoch 283/500\n",
      "453/453 - 0s - loss: 0.4624 - accuracy: 0.9272\n",
      "Epoch 284/500\n",
      "453/453 - 0s - loss: 0.4404 - accuracy: 0.9272\n",
      "Epoch 285/500\n",
      "453/453 - 0s - loss: 0.4111 - accuracy: 0.9360\n",
      "Epoch 286/500\n",
      "453/453 - 0s - loss: 0.4021 - accuracy: 0.9316\n",
      "Epoch 287/500\n",
      "453/453 - 0s - loss: 0.3861 - accuracy: 0.9316\n",
      "Epoch 288/500\n",
      "453/453 - 0s - loss: 0.3820 - accuracy: 0.9360\n",
      "Epoch 289/500\n",
      "453/453 - 0s - loss: 0.3727 - accuracy: 0.9404\n",
      "Epoch 290/500\n",
      "453/453 - 0s - loss: 0.3580 - accuracy: 0.9426\n",
      "Epoch 291/500\n",
      "453/453 - 0s - loss: 0.3476 - accuracy: 0.9426\n",
      "Epoch 292/500\n",
      "453/453 - 0s - loss: 0.3430 - accuracy: 0.9448\n",
      "Epoch 293/500\n",
      "453/453 - 0s - loss: 0.3381 - accuracy: 0.9470\n",
      "Epoch 294/500\n",
      "453/453 - 0s - loss: 0.3337 - accuracy: 0.9426\n",
      "Epoch 295/500\n",
      "453/453 - 0s - loss: 0.3311 - accuracy: 0.9448\n",
      "Epoch 296/500\n",
      "453/453 - 0s - loss: 0.3277 - accuracy: 0.9448\n",
      "Epoch 297/500\n",
      "453/453 - 0s - loss: 0.3239 - accuracy: 0.9470\n",
      "Epoch 298/500\n",
      "453/453 - 0s - loss: 0.3218 - accuracy: 0.9470\n",
      "Epoch 299/500\n",
      "453/453 - 0s - loss: 0.3194 - accuracy: 0.9426\n",
      "Epoch 300/500\n",
      "453/453 - 0s - loss: 0.3164 - accuracy: 0.9448\n",
      "Epoch 301/500\n",
      "453/453 - 0s - loss: 0.3147 - accuracy: 0.9448\n",
      "Epoch 302/500\n",
      "453/453 - 0s - loss: 0.3115 - accuracy: 0.9470\n",
      "Epoch 303/500\n",
      "453/453 - 0s - loss: 0.3092 - accuracy: 0.9492\n",
      "Epoch 304/500\n",
      "453/453 - 0s - loss: 0.3075 - accuracy: 0.9470\n",
      "Epoch 305/500\n",
      "453/453 - 0s - loss: 0.3051 - accuracy: 0.9470\n",
      "Epoch 306/500\n",
      "453/453 - 0s - loss: 0.3031 - accuracy: 0.9492\n",
      "Epoch 307/500\n",
      "453/453 - 0s - loss: 0.3046 - accuracy: 0.9470\n",
      "Epoch 308/500\n",
      "453/453 - 0s - loss: 0.3011 - accuracy: 0.9470\n",
      "Epoch 309/500\n",
      "453/453 - 0s - loss: 0.2964 - accuracy: 0.9470\n",
      "Epoch 310/500\n",
      "453/453 - 0s - loss: 0.2944 - accuracy: 0.9470\n",
      "Epoch 311/500\n",
      "453/453 - 0s - loss: 0.2929 - accuracy: 0.9492\n",
      "Epoch 312/500\n",
      "453/453 - 0s - loss: 0.2920 - accuracy: 0.9426\n",
      "Epoch 313/500\n",
      "453/453 - 0s - loss: 0.2924 - accuracy: 0.9470\n",
      "Epoch 314/500\n",
      "453/453 - 0s - loss: 0.2897 - accuracy: 0.9470\n",
      "Epoch 315/500\n",
      "453/453 - 0s - loss: 0.2870 - accuracy: 0.9492\n",
      "Epoch 316/500\n",
      "453/453 - 0s - loss: 0.2851 - accuracy: 0.9470\n",
      "Epoch 317/500\n",
      "453/453 - 0s - loss: 0.2798 - accuracy: 0.9492\n",
      "Epoch 318/500\n",
      "453/453 - 0s - loss: 0.2776 - accuracy: 0.9470\n",
      "Epoch 319/500\n",
      "453/453 - 0s - loss: 0.2754 - accuracy: 0.9514\n",
      "Epoch 320/500\n",
      "453/453 - 0s - loss: 0.2730 - accuracy: 0.9470\n",
      "Epoch 321/500\n",
      "453/453 - 0s - loss: 0.2720 - accuracy: 0.9492\n",
      "Epoch 322/500\n",
      "453/453 - 0s - loss: 0.2734 - accuracy: 0.9492\n",
      "Epoch 323/500\n",
      "453/453 - 0s - loss: 0.2703 - accuracy: 0.9514\n",
      "Epoch 324/500\n",
      "453/453 - 0s - loss: 0.2688 - accuracy: 0.9492\n",
      "Epoch 325/500\n",
      "453/453 - 0s - loss: 0.2657 - accuracy: 0.9514\n",
      "Epoch 326/500\n",
      "453/453 - 0s - loss: 0.2630 - accuracy: 0.9536\n",
      "Epoch 327/500\n",
      "453/453 - 0s - loss: 0.2618 - accuracy: 0.9514\n",
      "Epoch 328/500\n",
      "453/453 - 0s - loss: 0.2601 - accuracy: 0.9536\n",
      "Epoch 329/500\n",
      "453/453 - 0s - loss: 0.2586 - accuracy: 0.9492\n",
      "Epoch 330/500\n",
      "453/453 - 0s - loss: 0.2575 - accuracy: 0.9514\n",
      "Epoch 331/500\n",
      "453/453 - 0s - loss: 0.2559 - accuracy: 0.9514\n",
      "Epoch 332/500\n",
      "453/453 - 0s - loss: 0.2569 - accuracy: 0.9514\n",
      "Epoch 333/500\n",
      "453/453 - 0s - loss: 0.2541 - accuracy: 0.9514\n",
      "Epoch 334/500\n",
      "453/453 - 0s - loss: 0.2522 - accuracy: 0.9492\n",
      "Epoch 335/500\n",
      "453/453 - 0s - loss: 0.2502 - accuracy: 0.9492\n",
      "Epoch 336/500\n",
      "453/453 - 0s - loss: 0.2490 - accuracy: 0.9514\n",
      "Epoch 337/500\n",
      "453/453 - 0s - loss: 0.2471 - accuracy: 0.9514\n",
      "Epoch 338/500\n",
      "453/453 - 0s - loss: 0.2465 - accuracy: 0.9536\n",
      "Epoch 339/500\n",
      "453/453 - 0s - loss: 0.2446 - accuracy: 0.9514\n",
      "Epoch 340/500\n",
      "453/453 - 0s - loss: 0.2432 - accuracy: 0.9514\n",
      "Epoch 341/500\n",
      "453/453 - 0s - loss: 0.2425 - accuracy: 0.9514\n",
      "Epoch 342/500\n",
      "453/453 - 0s - loss: 0.2409 - accuracy: 0.9514\n",
      "Epoch 343/500\n",
      "453/453 - 0s - loss: 0.2391 - accuracy: 0.9536\n",
      "Epoch 344/500\n",
      "453/453 - 0s - loss: 0.2372 - accuracy: 0.9536\n",
      "Epoch 345/500\n",
      "453/453 - 0s - loss: 0.2361 - accuracy: 0.9514\n",
      "Epoch 346/500\n",
      "453/453 - 0s - loss: 0.2347 - accuracy: 0.9536\n",
      "Epoch 347/500\n",
      "453/453 - 0s - loss: 0.2339 - accuracy: 0.9492\n",
      "Epoch 348/500\n",
      "453/453 - 0s - loss: 0.2327 - accuracy: 0.9536\n",
      "Epoch 349/500\n",
      "453/453 - 0s - loss: 0.2322 - accuracy: 0.9492\n",
      "Epoch 350/500\n",
      "453/453 - 0s - loss: 0.2295 - accuracy: 0.9514\n",
      "Epoch 351/500\n",
      "453/453 - 0s - loss: 0.2297 - accuracy: 0.9492\n",
      "Epoch 352/500\n",
      "453/453 - 0s - loss: 0.2304 - accuracy: 0.9492\n",
      "Epoch 353/500\n",
      "453/453 - 0s - loss: 0.2382 - accuracy: 0.9448\n",
      "Epoch 354/500\n",
      "453/453 - 0s - loss: 0.2595 - accuracy: 0.9426\n",
      "Epoch 355/500\n",
      "453/453 - 0s - loss: 0.2984 - accuracy: 0.9294\n",
      "Epoch 356/500\n",
      "453/453 - 0s - loss: 0.2769 - accuracy: 0.9360\n",
      "Epoch 357/500\n",
      "453/453 - 0s - loss: 0.2803 - accuracy: 0.9382\n",
      "Epoch 358/500\n",
      "453/453 - 0s - loss: 0.2892 - accuracy: 0.9360\n",
      "Epoch 359/500\n",
      "453/453 - 0s - loss: 0.2730 - accuracy: 0.9338\n",
      "Epoch 360/500\n",
      "453/453 - 0s - loss: 0.2569 - accuracy: 0.9426\n",
      "Epoch 361/500\n",
      "453/453 - 0s - loss: 0.2372 - accuracy: 0.9470\n",
      "Epoch 362/500\n",
      "453/453 - 0s - loss: 0.2342 - accuracy: 0.9448\n",
      "Epoch 363/500\n",
      "453/453 - 0s - loss: 0.2279 - accuracy: 0.9448\n",
      "Epoch 364/500\n",
      "453/453 - 0s - loss: 0.2242 - accuracy: 0.9470\n",
      "Epoch 365/500\n",
      "453/453 - 0s - loss: 0.2207 - accuracy: 0.9536\n",
      "Epoch 366/500\n",
      "453/453 - 0s - loss: 0.2172 - accuracy: 0.9536\n",
      "Epoch 367/500\n",
      "453/453 - 0s - loss: 0.2161 - accuracy: 0.9470\n",
      "Epoch 368/500\n",
      "453/453 - 0s - loss: 0.2140 - accuracy: 0.9536\n",
      "Epoch 369/500\n",
      "453/453 - 0s - loss: 0.2119 - accuracy: 0.9492\n",
      "Epoch 370/500\n",
      "453/453 - 0s - loss: 0.2107 - accuracy: 0.9514\n",
      "Epoch 371/500\n",
      "453/453 - 0s - loss: 0.2095 - accuracy: 0.9514\n",
      "Epoch 372/500\n",
      "453/453 - 0s - loss: 0.2082 - accuracy: 0.9448\n",
      "Epoch 373/500\n",
      "453/453 - 0s - loss: 0.2077 - accuracy: 0.9470\n",
      "Epoch 374/500\n",
      "453/453 - 0s - loss: 0.2063 - accuracy: 0.9514\n",
      "Epoch 375/500\n",
      "453/453 - 0s - loss: 0.2045 - accuracy: 0.9514\n",
      "Epoch 376/500\n",
      "453/453 - 0s - loss: 0.2034 - accuracy: 0.9514\n",
      "Epoch 377/500\n",
      "453/453 - 0s - loss: 0.2026 - accuracy: 0.9514\n",
      "Epoch 378/500\n",
      "453/453 - 0s - loss: 0.2017 - accuracy: 0.9514\n",
      "Epoch 379/500\n",
      "453/453 - 0s - loss: 0.2010 - accuracy: 0.9514\n",
      "Epoch 380/500\n",
      "453/453 - 0s - loss: 0.2100 - accuracy: 0.9492\n",
      "Epoch 381/500\n",
      "453/453 - 0s - loss: 0.2028 - accuracy: 0.9470\n",
      "Epoch 382/500\n",
      "453/453 - 0s - loss: 0.2013 - accuracy: 0.9448\n",
      "Epoch 383/500\n",
      "453/453 - 0s - loss: 0.2003 - accuracy: 0.9492\n",
      "Epoch 384/500\n",
      "453/453 - 0s - loss: 0.1964 - accuracy: 0.9514\n",
      "Epoch 385/500\n",
      "453/453 - 0s - loss: 0.1945 - accuracy: 0.9536\n",
      "Epoch 386/500\n",
      "453/453 - 0s - loss: 0.1939 - accuracy: 0.9514\n",
      "Epoch 387/500\n",
      "453/453 - 0s - loss: 0.1941 - accuracy: 0.9514\n",
      "Epoch 388/500\n",
      "453/453 - 0s - loss: 0.1933 - accuracy: 0.9514\n",
      "Epoch 389/500\n",
      "453/453 - 0s - loss: 0.1909 - accuracy: 0.9470\n",
      "Epoch 390/500\n",
      "453/453 - 0s - loss: 0.1893 - accuracy: 0.9470\n",
      "Epoch 391/500\n",
      "453/453 - 0s - loss: 0.1879 - accuracy: 0.9514\n",
      "Epoch 392/500\n",
      "453/453 - 0s - loss: 0.1874 - accuracy: 0.9492\n",
      "Epoch 393/500\n",
      "453/453 - 0s - loss: 0.1863 - accuracy: 0.9448\n",
      "Epoch 394/500\n",
      "453/453 - 0s - loss: 0.1858 - accuracy: 0.9426\n",
      "Epoch 395/500\n",
      "453/453 - 0s - loss: 0.1854 - accuracy: 0.9514\n",
      "Epoch 396/500\n",
      "453/453 - 0s - loss: 0.1846 - accuracy: 0.9514\n",
      "Epoch 397/500\n",
      "453/453 - 0s - loss: 0.1854 - accuracy: 0.9492\n",
      "Epoch 398/500\n",
      "453/453 - 0s - loss: 0.1842 - accuracy: 0.9426\n",
      "Epoch 399/500\n",
      "453/453 - 0s - loss: 0.1824 - accuracy: 0.9470\n",
      "Epoch 400/500\n",
      "453/453 - 0s - loss: 0.1822 - accuracy: 0.9514\n",
      "Epoch 401/500\n",
      "453/453 - 0s - loss: 0.1825 - accuracy: 0.9448\n",
      "Epoch 402/500\n",
      "453/453 - 0s - loss: 0.1803 - accuracy: 0.9426\n",
      "Epoch 403/500\n",
      "453/453 - 0s - loss: 0.1794 - accuracy: 0.9448\n",
      "Epoch 404/500\n",
      "453/453 - 0s - loss: 0.1786 - accuracy: 0.9404\n",
      "Epoch 405/500\n",
      "453/453 - 0s - loss: 0.1790 - accuracy: 0.9492\n",
      "Epoch 406/500\n",
      "453/453 - 0s - loss: 0.1764 - accuracy: 0.9492\n"
     ]
    },
    {
     "name": "stdout",
     "output_type": "stream",
     "text": [
      "Epoch 407/500\n",
      "453/453 - 0s - loss: 0.1765 - accuracy: 0.9514\n",
      "Epoch 408/500\n",
      "453/453 - 0s - loss: 0.1768 - accuracy: 0.9470\n",
      "Epoch 409/500\n",
      "453/453 - 0s - loss: 0.1763 - accuracy: 0.9470\n",
      "Epoch 410/500\n",
      "453/453 - 0s - loss: 0.1752 - accuracy: 0.9514\n",
      "Epoch 411/500\n",
      "453/453 - 0s - loss: 0.1737 - accuracy: 0.9492\n",
      "Epoch 412/500\n",
      "453/453 - 0s - loss: 0.1728 - accuracy: 0.9470\n",
      "Epoch 413/500\n",
      "453/453 - 0s - loss: 0.1718 - accuracy: 0.9492\n",
      "Epoch 414/500\n",
      "453/453 - 0s - loss: 0.1716 - accuracy: 0.9514\n",
      "Epoch 415/500\n",
      "453/453 - 0s - loss: 0.1704 - accuracy: 0.9492\n",
      "Epoch 416/500\n",
      "453/453 - 0s - loss: 0.1699 - accuracy: 0.9492\n",
      "Epoch 417/500\n",
      "453/453 - 0s - loss: 0.1696 - accuracy: 0.9514\n",
      "Epoch 418/500\n",
      "453/453 - 0s - loss: 0.1681 - accuracy: 0.9426\n",
      "Epoch 419/500\n",
      "453/453 - 0s - loss: 0.1680 - accuracy: 0.9382\n",
      "Epoch 420/500\n",
      "453/453 - 0s - loss: 0.1673 - accuracy: 0.9492\n",
      "Epoch 421/500\n",
      "453/453 - 0s - loss: 0.1671 - accuracy: 0.9492\n",
      "Epoch 422/500\n",
      "453/453 - 0s - loss: 0.1697 - accuracy: 0.9426\n",
      "Epoch 423/500\n",
      "453/453 - 0s - loss: 0.1653 - accuracy: 0.9470\n",
      "Epoch 424/500\n",
      "453/453 - 0s - loss: 0.1655 - accuracy: 0.9470\n",
      "Epoch 425/500\n",
      "453/453 - 0s - loss: 0.1648 - accuracy: 0.9470\n",
      "Epoch 426/500\n",
      "453/453 - 0s - loss: 0.1632 - accuracy: 0.9492\n",
      "Epoch 427/500\n",
      "453/453 - 0s - loss: 0.1650 - accuracy: 0.9448\n",
      "Epoch 428/500\n",
      "453/453 - 0s - loss: 0.1640 - accuracy: 0.9470\n",
      "Epoch 429/500\n",
      "453/453 - 0s - loss: 0.1626 - accuracy: 0.9492\n",
      "Epoch 430/500\n",
      "453/453 - 0s - loss: 0.1688 - accuracy: 0.9470\n",
      "Epoch 431/500\n",
      "453/453 - 0s - loss: 0.1663 - accuracy: 0.9426\n",
      "Epoch 432/500\n",
      "453/453 - 0s - loss: 0.1643 - accuracy: 0.9470\n",
      "Epoch 433/500\n",
      "453/453 - 0s - loss: 0.1631 - accuracy: 0.9448\n",
      "Epoch 434/500\n",
      "453/453 - 0s - loss: 0.1607 - accuracy: 0.9448\n",
      "Epoch 435/500\n",
      "453/453 - 0s - loss: 0.1587 - accuracy: 0.9426\n",
      "Epoch 436/500\n",
      "453/453 - 0s - loss: 0.1688 - accuracy: 0.9470\n",
      "Epoch 437/500\n",
      "453/453 - 0s - loss: 0.1658 - accuracy: 0.9514\n",
      "Epoch 438/500\n",
      "453/453 - 0s - loss: 0.1628 - accuracy: 0.9470\n",
      "Epoch 439/500\n",
      "453/453 - 0s - loss: 0.1612 - accuracy: 0.9492\n",
      "Epoch 440/500\n",
      "453/453 - 0s - loss: 0.1583 - accuracy: 0.9426\n",
      "Epoch 441/500\n",
      "453/453 - 0s - loss: 0.1596 - accuracy: 0.9470\n",
      "Epoch 442/500\n",
      "453/453 - 0s - loss: 0.1568 - accuracy: 0.9492\n",
      "Epoch 443/500\n",
      "453/453 - 0s - loss: 0.1552 - accuracy: 0.9514\n",
      "Epoch 444/500\n",
      "453/453 - 0s - loss: 0.1546 - accuracy: 0.9470\n",
      "Epoch 445/500\n",
      "453/453 - 0s - loss: 0.1543 - accuracy: 0.9448\n",
      "Epoch 446/500\n",
      "453/453 - 0s - loss: 0.1556 - accuracy: 0.9492\n",
      "Epoch 447/500\n",
      "453/453 - 0s - loss: 0.1542 - accuracy: 0.9514\n",
      "Epoch 448/500\n",
      "453/453 - 0s - loss: 0.1528 - accuracy: 0.9492\n",
      "Epoch 449/500\n",
      "453/453 - 0s - loss: 0.1534 - accuracy: 0.9448\n",
      "Epoch 450/500\n",
      "453/453 - 0s - loss: 0.1515 - accuracy: 0.9470\n",
      "Epoch 451/500\n",
      "453/453 - 0s - loss: 0.1502 - accuracy: 0.9448\n",
      "Epoch 452/500\n",
      "453/453 - 0s - loss: 0.1508 - accuracy: 0.9470\n",
      "Epoch 453/500\n",
      "453/453 - 0s - loss: 0.1505 - accuracy: 0.9492\n",
      "Epoch 454/500\n",
      "453/453 - 0s - loss: 0.1499 - accuracy: 0.9470\n",
      "Epoch 455/500\n",
      "453/453 - 0s - loss: 0.1491 - accuracy: 0.9492\n",
      "Epoch 456/500\n",
      "453/453 - 0s - loss: 0.1487 - accuracy: 0.9514\n",
      "Epoch 457/500\n",
      "453/453 - 0s - loss: 0.1478 - accuracy: 0.9492\n",
      "Epoch 458/500\n",
      "453/453 - 0s - loss: 0.1487 - accuracy: 0.9470\n",
      "Epoch 459/500\n",
      "453/453 - 0s - loss: 0.1462 - accuracy: 0.9514\n",
      "Epoch 460/500\n",
      "453/453 - 0s - loss: 0.1461 - accuracy: 0.9492\n",
      "Epoch 461/500\n",
      "453/453 - 0s - loss: 0.1453 - accuracy: 0.9536\n",
      "Epoch 462/500\n",
      "453/453 - 0s - loss: 0.1454 - accuracy: 0.9514\n",
      "Epoch 463/500\n",
      "453/453 - 0s - loss: 0.1439 - accuracy: 0.9448\n",
      "Epoch 464/500\n",
      "453/453 - 0s - loss: 0.1438 - accuracy: 0.9426\n",
      "Epoch 465/500\n",
      "453/453 - 0s - loss: 0.1438 - accuracy: 0.9404\n",
      "Epoch 466/500\n",
      "453/453 - 0s - loss: 0.1428 - accuracy: 0.9492\n",
      "Epoch 467/500\n",
      "453/453 - 0s - loss: 0.1423 - accuracy: 0.9514\n",
      "Epoch 468/500\n",
      "453/453 - 0s - loss: 0.1463 - accuracy: 0.9514\n",
      "Epoch 469/500\n",
      "453/453 - 0s - loss: 0.1470 - accuracy: 0.9448\n",
      "Epoch 470/500\n",
      "453/453 - 0s - loss: 0.1500 - accuracy: 0.9470\n",
      "Epoch 471/500\n",
      "453/453 - 0s - loss: 0.1459 - accuracy: 0.9470\n",
      "Epoch 472/500\n",
      "453/453 - 0s - loss: 0.1477 - accuracy: 0.9492\n",
      "Epoch 473/500\n",
      "453/453 - 0s - loss: 0.1440 - accuracy: 0.9492\n",
      "Epoch 474/500\n",
      "453/453 - 0s - loss: 0.1410 - accuracy: 0.9470\n",
      "Epoch 475/500\n",
      "453/453 - 0s - loss: 0.1398 - accuracy: 0.9404\n",
      "Epoch 476/500\n",
      "453/453 - 0s - loss: 0.1397 - accuracy: 0.9492\n",
      "Epoch 477/500\n",
      "453/453 - 0s - loss: 0.1405 - accuracy: 0.9492\n",
      "Epoch 478/500\n",
      "453/453 - 0s - loss: 0.1385 - accuracy: 0.9492\n",
      "Epoch 479/500\n",
      "453/453 - 0s - loss: 0.1369 - accuracy: 0.9470\n",
      "Epoch 480/500\n",
      "453/453 - 0s - loss: 0.1378 - accuracy: 0.9426\n",
      "Epoch 481/500\n",
      "453/453 - 0s - loss: 0.1380 - accuracy: 0.9470\n",
      "Epoch 482/500\n",
      "453/453 - 0s - loss: 0.1383 - accuracy: 0.9448\n",
      "Epoch 483/500\n",
      "453/453 - 0s - loss: 0.1362 - accuracy: 0.9492\n",
      "Epoch 484/500\n",
      "453/453 - 0s - loss: 0.1351 - accuracy: 0.9492\n",
      "Epoch 485/500\n",
      "453/453 - 0s - loss: 0.1359 - accuracy: 0.9426\n",
      "Epoch 486/500\n",
      "453/453 - 0s - loss: 0.1389 - accuracy: 0.9426\n",
      "Epoch 487/500\n",
      "453/453 - 0s - loss: 0.1353 - accuracy: 0.9448\n",
      "Epoch 488/500\n",
      "453/453 - 0s - loss: 0.1347 - accuracy: 0.9492\n",
      "Epoch 489/500\n",
      "453/453 - 0s - loss: 0.1341 - accuracy: 0.9470\n",
      "Epoch 490/500\n",
      "453/453 - 0s - loss: 0.1338 - accuracy: 0.9448\n",
      "Epoch 491/500\n",
      "453/453 - 0s - loss: 0.1330 - accuracy: 0.9470\n",
      "Epoch 492/500\n",
      "453/453 - 0s - loss: 0.1332 - accuracy: 0.9492\n",
      "Epoch 493/500\n",
      "453/453 - 0s - loss: 0.1328 - accuracy: 0.9470\n",
      "Epoch 494/500\n",
      "453/453 - 0s - loss: 0.1330 - accuracy: 0.9404\n",
      "Epoch 495/500\n",
      "453/453 - 0s - loss: 0.1320 - accuracy: 0.9470\n",
      "Epoch 496/500\n",
      "453/453 - 0s - loss: 0.1318 - accuracy: 0.9426\n",
      "Epoch 497/500\n",
      "453/453 - 0s - loss: 0.1316 - accuracy: 0.9492\n",
      "Epoch 498/500\n",
      "453/453 - 0s - loss: 0.1320 - accuracy: 0.9448\n",
      "Epoch 499/500\n",
      "453/453 - 0s - loss: 0.1319 - accuracy: 0.9470\n",
      "Epoch 500/500\n",
      "453/453 - 0s - loss: 0.1306 - accuracy: 0.9492\n"
     ]
    }
   ],
   "source": [
    "model = tf.keras.Sequential([\n",
    "    tf.keras.layers.Embedding(total_words, 64, input_length=max_sequence_len-1),\n",
    "    tf.keras.layers.Bidirectional(tf.keras.layers.LSTM(20)),\n",
    "    tf.keras.layers.Dense(total_words, activation='softmax')\n",
    "])\n",
    "\n",
    "model.compile(loss='categorical_crossentropy', optimizer='adam', metrics=['accuracy'])\n",
    "history = model.fit(xs, ys, epochs=500, verbose=2)"
   ]
  },
  {
   "cell_type": "code",
   "execution_count": 44,
   "metadata": {},
   "outputs": [
    {
     "name": "stdout",
     "output_type": "stream",
     "text": [
      "Laurence went to dublin girls the girls as at as red jig rose all all a daughter call call daughter father daughter stretched the right hall right hall glisten right but glisten glisten glisten hall glisten father hall hall hall hall died weeks a mchugh rose ogradys glisten then odaly glisten glisten father right hall right hall glisten glisten glisten glisten ask made them the wall ask ask ask plenty tea mavrone hearty hearty were ask ask ask water was glisten glisten fainted mavrone them mavrone were hearty hearty hearty hearty were ask ask ask water a hall hall hall hall hall glisten then\n"
     ]
    }
   ],
   "source": [
    "seed_text = \"Laurence went to dublin\"\n",
    "next_words = 100\n",
    "  \n",
    "for _ in range(next_words):\n",
    "    token_list = tokenizer.texts_to_sequences([seed_text])[0]\n",
    "    token_list = pad_sequences([token_list], maxlen=max_sequence_len-1, padding='pre')\n",
    "    predicted = model.predict_classes(token_list, verbose=0)\n",
    "    output_word = \"\"\n",
    "    for word, index in tokenizer.word_index.items():\n",
    "        if index == predicted:\n",
    "            output_word = word\n",
    "            break\n",
    "    seed_text += \" \" + output_word\n",
    "print(seed_text)"
   ]
  },
  {
   "cell_type": "code",
   "execution_count": null,
   "metadata": {},
   "outputs": [],
   "source": []
  }
 ],
 "metadata": {
  "kernelspec": {
   "display_name": "tf2_0",
   "language": "python",
   "name": "tf2_0"
  },
  "language_info": {
   "codemirror_mode": {
    "name": "ipython",
    "version": 3
   },
   "file_extension": ".py",
   "mimetype": "text/x-python",
   "name": "python",
   "nbconvert_exporter": "python",
   "pygments_lexer": "ipython3",
   "version": "3.6.10"
  }
 },
 "nbformat": 4,
 "nbformat_minor": 4
}
