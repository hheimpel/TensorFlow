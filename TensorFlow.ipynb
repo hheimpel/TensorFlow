{
 "cells": [
  {
   "cell_type": "markdown",
   "metadata": {},
   "source": [
    "# TensorFlow\n",
    "\n",
    "*TensorFlow* is a powerful open source software library for numerical computation, particularly well suited and fine-tuned for large-scale Machine Learning. Its basic principle is simple: you first define in Python a graph of computations to perform, and then TensorFlow takes that graph and runs it efficiently using optimized C++ code. Most importantly, it is possible to break up the graph into several chunks and run them in parallel across multiple CPUs or GPUs."
   ]
  },
  {
   "cell_type": "code",
   "execution_count": 3,
   "metadata": {},
   "outputs": [
    {
     "name": "stderr",
     "output_type": "stream",
     "text": [
      "C:\\Users\\hheim\\Anaconda3\\envs\\TensorFlow\\lib\\site-packages\\h5py\\__init__.py:36: FutureWarning: Conversion of the second argument of issubdtype from `float` to `np.floating` is deprecated. In future, it will be treated as `np.float64 == np.dtype(float).type`.\n",
      "  from ._conv import register_converters as _register_converters\n"
     ]
    }
   ],
   "source": [
    "import tensorflow as tf"
   ]
  },
  {
   "cell_type": "code",
   "execution_count": 5,
   "metadata": {},
   "outputs": [
    {
     "name": "stdout",
     "output_type": "stream",
     "text": [
      "# packages in environment at C:\\Users\\hheim\\Anaconda3\\envs\\TensorFlow:\n",
      "#\n",
      "# Name                    Version                   Build  Channel\n",
      "_tflow_select             2.1.0                       gpu    anaconda\n",
      "absl-py                   0.9.0                    py36_0  \n",
      "argon2-cffi               20.1.0                   pypi_0    pypi\n",
      "astor                     0.8.1                    py36_0  \n",
      "attrs                     19.3.0                   pypi_0    pypi\n",
      "backcall                  0.2.0                      py_0  \n",
      "blas                      1.0                         mkl  \n",
      "bleach                    3.1.5                    pypi_0    pypi\n",
      "ca-certificates           2020.6.24                     0  \n",
      "certifi                   2020.6.20                py36_0  \n",
      "cffi                      1.14.2                   pypi_0    pypi\n",
      "colorama                  0.4.3                      py_0  \n",
      "cudatoolkit               9.0                           1    anaconda\n",
      "decorator                 4.4.2                      py_0  \n",
      "defusedxml                0.6.0                    pypi_0    pypi\n",
      "entrypoints               0.3                      pypi_0    pypi\n",
      "gast                      0.4.0                      py_0  \n",
      "grpcio                    1.31.0           py36he7da953_0  \n"
     ]
    },
    {
     "name": "stderr",
     "output_type": "stream",
     "text": [
      "WARNING: The conda.compat module is deprecated and will be removed in a future release.\n"
     ]
    },
    {
     "name": "stdout",
     "output_type": "stream",
     "text": [
      "h5py                      2.7.1            py36he54a1c3_0    anaconda\n",
      "hdf5                      1.10.1           vc14hb361328_0  [vc14]  anaconda\n",
      "icc_rt                    2019.0.0             h0cc432a_1    anaconda\n",
      "importlib-metadata        1.7.0                    py36_0  \n",
      "intel-openmp              2020.1                      216  \n",
      "ipykernel                 5.3.4            py36h5ca1d4c_0  \n",
      "ipython                   7.16.1           py36h5ca1d4c_0  \n",
      "ipython_genutils          0.2.0                    py36_0  \n",
      "ipywidgets                7.5.1                    pypi_0    pypi\n",
      "jedi                      0.17.2                   py36_0  \n",
      "jinja2                    2.11.2                   pypi_0    pypi\n",
      "jsonschema                3.2.0                    pypi_0    pypi\n",
      "jupyter                   1.0.0                    pypi_0    pypi\n",
      "jupyter-console           6.1.0                    pypi_0    pypi\n",
      "jupyter_client            6.1.6                      py_0  \n",
      "jupyter_core              4.6.3                    py36_0  \n",
      "keras-applications        1.0.8                      py_1    anaconda\n",
      "keras-preprocessing       1.1.0                      py_1    anaconda\n",
      "libprotobuf               3.12.4               h200bbdf_0  \n",
      "libsodium                 1.0.18               h62dcd97_0  \n",
      "markdown                  3.2.2                    py36_0  \n",
      "markupsafe                1.1.1                    pypi_0    pypi\n",
      "mistune                   0.8.4                    pypi_0    pypi\n",
      "mkl                       2020.1                      216  \n",
      "mkl-service               2.3.0            py36hb782905_0  \n",
      "mkl_fft                   1.0.6            py36hdbbee80_0    anaconda\n",
      "mkl_random                1.1.1            py36h47e9c7a_0    anaconda\n",
      "nbconvert                 5.6.1                    pypi_0    pypi\n",
      "nbformat                  5.0.7                    pypi_0    pypi\n",
      "notebook                  6.1.3                    pypi_0    pypi\n",
      "numpy                     1.14.5                   pypi_0    pypi\n",
      "numpy-base                1.15.4           py36h8128ebf_0    anaconda\n",
      "openssl                   1.1.1g               he774522_1  \n",
      "packaging                 20.4                     pypi_0    pypi\n",
      "pandocfilters             1.4.2                    pypi_0    pypi\n",
      "parso                     0.7.0                      py_0  \n",
      "pickleshare               0.7.5                    py36_0  \n",
      "pip                       20.2.2                   py36_0  \n",
      "prometheus-client         0.8.0                    pypi_0    pypi\n",
      "prompt-toolkit            3.0.5                      py_0  \n",
      "protobuf                  3.12.4           py36ha925a31_0  \n",
      "pycparser                 2.20                     pypi_0    pypi\n",
      "pygments                  2.6.1                      py_0  \n",
      "pyparsing                 2.4.7                    pypi_0    pypi\n",
      "pyrsistent                0.16.0                   pypi_0    pypi\n",
      "python                    3.6.7                h33f27b4_1    anaconda\n",
      "python-dateutil           2.8.1                      py_0  \n",
      "pywin32                   227              py36he774522_1  \n",
      "pywinpty                  0.5.7                    pypi_0    pypi\n",
      "pyzmq                     19.0.1           py36ha925a31_1  \n",
      "qtconsole                 4.7.6                    pypi_0    pypi\n",
      "qtpy                      1.9.0                    pypi_0    pypi\n",
      "scipy                     1.1.0            py36h4f6bf74_1    anaconda\n",
      "send2trash                1.5.0                    pypi_0    pypi\n",
      "setuptools                49.6.0                   py36_0  \n",
      "six                       1.15.0                     py_0  \n",
      "sqlite                    3.20.1           vc14h7ce8c62_1  [vc14]  anaconda\n",
      "tensorboard               1.12.2           py36h33f27b4_0    anaconda\n",
      "tensorflow                1.12.0                   pypi_0    pypi\n",
      "termcolor                 1.1.0                    py36_1  \n",
      "terminado                 0.8.3                    pypi_0    pypi\n",
      "testpath                  0.4.4                    pypi_0    pypi\n",
      "tornado                   6.0.4            py36he774522_1  \n",
      "traitlets                 4.3.3                    py36_0  \n",
      "vc                        14.1                 h0510ff6_4  \n",
      "vs2015_runtime            14.16.27012          hf0eaf9b_3  \n",
      "wcwidth                   0.2.5                      py_0  \n",
      "webencodings              0.5.1                    pypi_0    pypi\n",
      "werkzeug                  1.0.1                      py_0  \n",
      "wheel                     0.34.2                   py36_0  \n",
      "widgetsnbextension        3.5.1                    pypi_0    pypi\n",
      "wincertstore              0.2              py36h7fe50ca_0  \n",
      "zeromq                    4.3.2                ha925a31_2  \n",
      "zipp                      3.1.0                      py_0  \n",
      "zlib                      1.2.11           vc14h1cdd9ab_1  [vc14]  anaconda\n"
     ]
    }
   ],
   "source": [
    "!conda list"
   ]
  },
  {
   "cell_type": "code",
   "execution_count": 7,
   "metadata": {},
   "outputs": [],
   "source": [
    "x = tf.Variable(3, name=\"x\")\n",
    "y = tf.Variable(4, name=\"y\")\n",
    "f = x*x*y + y + 2"
   ]
  },
  {
   "cell_type": "markdown",
   "metadata": {},
   "source": [
    "The most important thing to understand is that this code does not actually perform any computation, even though it looks like it does (especially the last line). It just creates a computation graph. In fact, even the variables are not initialized yet. To evaluate this graph, you need to open a TensorFlow session and use it to initialize the variables and evaluate."
   ]
  },
  {
   "cell_type": "code",
   "execution_count": 8,
   "metadata": {},
   "outputs": [
    {
     "name": "stdout",
     "output_type": "stream",
     "text": [
      "42\n"
     ]
    }
   ],
   "source": [
    "sess = tf.Session()\n",
    "sess.run(x.initializer)\n",
    "sess.run(y.initializer)\n",
    "result = sess.run(f)\n",
    "print(result)\n",
    "sess.close()"
   ]
  }
 ],
 "metadata": {
  "kernelspec": {
   "display_name": "TensorFlow",
   "language": "python",
   "name": "tensorflow"
  },
  "language_info": {
   "codemirror_mode": {
    "name": "ipython",
    "version": 3
   },
   "file_extension": ".py",
   "mimetype": "text/x-python",
   "name": "python",
   "nbconvert_exporter": "python",
   "pygments_lexer": "ipython3",
   "version": "3.6.7"
  }
 },
 "nbformat": 4,
 "nbformat_minor": 4
}
